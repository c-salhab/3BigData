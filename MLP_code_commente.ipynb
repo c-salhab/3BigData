{
 "cells": [
  {
   "cell_type": "code",
   "execution_count": 8,
   "metadata": {
    "id": "BRSb0VfJEA-0"
   },
   "outputs": [],
   "source": [
    "from typing import List\n",
    "import random\n",
    "import math"
   ]
  },
  {
   "cell_type": "code",
   "execution_count": 68,
   "metadata": {
    "id": "Hol8HyCLCAW2"
   },
   "outputs": [],
   "source": [
    "class MyMLP:\n",
    "  def __init__(self, npl: List[int]): # npl : neurons per layer (do not count bias neuron !)\n",
    "    self.d = list(npl) \n",
    "      # Nombre de neurones par couche\n",
    "      \n",
    "    self.W = []   \n",
    "      # Les poids sont représentés sous une forme de liste de liste\n",
    "      # La première couche est l'input -> self.W[0] = l'input entré dans le modèle\n",
    "      # self.W[i] représente la matrice des poids (biais inclus) de la couche i -> self.W[i] = liste de de float de taille d[i] + 1 (on fait +1 pour le biais)\n",
    "      # Le biais est représenté par le premier élément de la liste des poids de chaque couche -> self.W[i][0] = biais de la couche i.\n",
    "      # La dernière couche est la sortie -> self.W[self.L] = Dernière couche du réseau\n",
    "\n",
    "      # La shape des poids de chaque couche self.W[i] dépend du nombre de poids de la couche précédente ->\n",
    "          # len(self.W) = self.L + 1 -> nombre de couches\n",
    "          # len(self.W[i]) = self.d[i-1] + 1 -> nombre de lignes de la matrice des poids W de la couche i\n",
    "          # len(self.W[i][j]) = self.d[i] + 1 -> nombre de colonnes de la matrice des poids W de la couche i\n",
    "      \n",
    "    self.L = len(npl) - 1 \n",
    "      # Le nombre de couche du réseau.\n",
    "      # -1 car on ne compte par la couche d'input\n",
    "    \n",
    "    for l in range(0, self.L + 1): # Initialisation des poids des couches (et la couche d'input)\n",
    "      self.W.append([])\n",
    "        \n",
    "      if l == 0: # Skip la couche d'input -> la couche d'input est initialisé avec []\n",
    "        continue\n",
    "          \n",
    "      for i in range(0, self.d[l - 1] + 1): # self.d[l-1] est les nombre de poids à la couche l-1, +1 pour le biais\n",
    "        self.W[l].append([]) \n",
    "          \n",
    "        for j in range(0, self.d[l] + 1): # On rempli la liste des poids de la couche l\n",
    "            if j == 0: # Le biais est initialisé à 0\n",
    "                self.W[l][i].append(0.0)\n",
    "            else: # Les poids sont initialisé par des valeurs aléatoires proche de 0.\n",
    "                self.W[l][i].append(random.random() * 2.0 - 1.0)\n",
    "\n",
    "    self.X = [] \n",
    "      # Les outputs de chaque couches (+ l'output du neurone biais). \n",
    "      # L'output du neurone biais est le premier élement de la liste output -> self.X[i][0] = 1.\n",
    "      # La taille de chaque liste d'output est égale au nombre de neurone de la couche + 1 pour le neurone biais -> len(self.X[i]) = d[i] + 1\n",
    "      # La prédiction final du modèle sera le dernier output, privé de l'output biais -> self.predict(sample) = self.X[self.L][1:]\n",
    "      \n",
    "    self.deltas = [] \n",
    "      # La liste des gradients de l'erreur par rapport chaque output. C'est ces gradients qui nous permettent d'update les poids.\n",
    "      # La shape des gradients est égale à la shape de outputs du réseau ->\n",
    "            # len(self.deltas) = len(self.X)\n",
    "            # Pour tout i < self.L + 1 -> len(self.deltas[i]) = len(self.X[i])\n",
    "      \n",
    "    for l in range(0, self.L + 1): # Etant de shape égale, on initialise les outputs et les gradients dans la même boucle\n",
    "      self.X.append([])\n",
    "      self.deltas.append([])\n",
    "      for j in range(0, self.d[l] + 1): # Le + 1 pour le biais\n",
    "        self.deltas[l].append(0.0) # Tout les gradient sont initialisé à 0\n",
    "        if j == 0: # L'output du neurone biais est initalisé à 1 (et ne changera jamais)\n",
    "          self.X[l].append(1.0)\n",
    "        else: # Les autres output sont initialisé à 0\n",
    "          self.X[l].append(0.0)\n",
    "    \n",
    "  def _propagate(self, sample_inputs: List[float], is_classification: bool = True):\n",
    "      # sample_inputs est la liste représentant l'input.\n",
    "      # is_classification = True si on cherche à faire une classification. N'est uniquement utilisé lors du calcul de l'output de la couche finale.\n",
    "      \n",
    "    for j in range(len(sample_inputs)): # On modifie la première couche du réseau avec les données de l'input.\n",
    "      self.X[0][j + 1] = sample_inputs[j] # j+1 car self.X[0] est le poid fictif biais.\n",
    "\n",
    "    for l in range(1, self.L + 1): # Parcours de chaque couche du réseau.\n",
    "      for j in range(1, self.d[l] + 1):\n",
    "          # On cherche à caluler l'output X[j] de la couche l -> X[l][j]\n",
    "          \n",
    "          # total = sum(W[_][j] * X[l-1])\n",
    "              # W[l][_][j] est la colonne j de la matrice des poids W\n",
    "              # X[l-1] est la liste output de la couche précédente\n",
    "          \n",
    "          # Cas is_classification = True : On applique tanh au total -> total = tanh(total)\n",
    "          # Cas is_classifiaction = False : On applique tanh au total SAUF pour la dernière couche.\n",
    "\n",
    "          # X[j] = total\n",
    "            \n",
    "        total = 0.0\n",
    "        for i in range(0, self.d[l - 1] + 1):\n",
    "          total += self.W[l][i][j] * self.X[l - 1][i]\n",
    "\n",
    "        if is_classification or l < self.L: # Applique tanh(l'activation) sur toute les couches à part la dernière. tanh est appliqué à la dernière coucche si is_classification = Tue\n",
    "          total = math.tanh(total)\n",
    "            \n",
    "        self.X[l][j] = total\n",
    "          \n",
    "  def predict(self, sample_inputs: List[float], is_classification: bool = True):\n",
    "    self._propagate(sample_inputs, is_classification)\n",
    "    return self.X[self.L][1:] # On récupère juste l'output final privé du biais après propagation\n",
    "\n",
    "  def train(self,\n",
    "            all_samples_inputs: List[List[float]],\n",
    "            all_samples_expected_outputs: List[List[float]],\n",
    "            alpha: float,\n",
    "            nb_iter: int,\n",
    "            is_classification: bool = True\n",
    "            ):\n",
    "    # all_samples_inputs : la liste de tout les samples qui vont servir à entrainer le modèle.\n",
    "      \n",
    "    # all_samples_expected_outputs : l'étiquette de chaque sample de all_samples_inputs ->\n",
    "          # len(all_samples_inputs) = len(all_samples_expected_outputs)\n",
    "          # Attention : len(all_samples_inputs[i]) n'est pas forcément égal à len(all_samples_expected_outputs[i])\n",
    "      \n",
    "    # alpha : le learning rate qui va définir la taille du pas pris lors de la modification des poids.\n",
    "\n",
    "    # nb_iter : Le nombre d'itération d'entraînement sur le couple de données (all_samples_inputs, all_samples_expected_outputs)\n",
    "\n",
    "    # is_classification : modèle de classification ou régression\n",
    "      \n",
    "    for it in range(nb_iter):\n",
    "        # On récupère un sample aléatoire avec son label :\n",
    "      k = random.randint(0, len(all_samples_inputs) - 1)\n",
    "      sample_inputs = all_samples_inputs[k] # sample aléatoire\n",
    "      sample_expected_outputs = all_samples_expected_outputs[k] # label du sample\n",
    "\n",
    "      self._propagate(sample_inputs, is_classification) \n",
    "        # On fait entre le sample dans le réseau ->\n",
    "            # sample_inputs prend la place de self.W[0]\n",
    "            # les outputs de chaque couches vont être sauvgarder lors de la propagation\n",
    "            # l'output de la dernière couche privé du biais sera la prédiction -> sample_prediciton = self.X[self.L][1:]\n",
    "\n",
    "        # On calcule l'erreur entre la prédiction finale et la valeur attentendue.\n",
    "        \n",
    "        # On cherche à remplir la matrice des gradients de l'erreur total par rapport à chaque poids du réseau ->\n",
    "            # Nous devons caluler la dérivée partielle de chaque poids (d_E_w) par rapport à l'erreur totale(E).\n",
    "            # Nous utilisons la chain rule qui nous permet de séparer le calcul de d_E_w en produit de de dérivée partielle plus simple à calculer.\n",
    "                \n",
    "                # d_E_w = d_E_activation * d_activation_z * d_z_w\n",
    "\n",
    "                    # d_E_w : la dérivé partielle de l'erreur E par rapport au poid w\n",
    "                    # d_E_activation : la dérivé partielle de l'erreur E par rapport à l'activation (tanh)\n",
    "                    # d_activation_z : la dérivé partielle de l'activation(tanh) par rapport au poid à z = formule de l'output avant d'appliqué l'activation\n",
    "                    # d_z_w : la dérivé partielle de z par rapport au poid w\n",
    "\n",
    "      for j in range(1, self.d[self.L] + 1): # on part de 1 car on skip l'output du neurone biais.\n",
    "          # On cherche à calculer la dérivée partielle de w par rapport à l'erreur ->\n",
    "              # d_E_w = output de la couche précédente - sample_expected_outputs\n",
    "        self.deltas[self.L][j] = self.X[self.L][j] - sample_expected_outputs[j - 1] # j-1 car on part de l'indexe 1\n",
    "        if is_classification: \n",
    "            # Dans le cas d'une classification, tanh est appliqué l'output final, on calcule donc la dérivée de tanh par rapport à l'erreur.\n",
    "          self.deltas[self.L][j] *= (1 - self.X[self.L][j] ** 2)\n",
    "\n",
    "        # Le gradient de l'erreur par rapport au poid de la dernière couche est maintenant calculé.\n",
    "        # Grâce à la chain rule, nous pouvons donc caluler le gradient de l'erreur par rapport aux poids de la couche précédente.\n",
    "\n",
    "      for l in reversed(range(2, self.L)): # On parcourt les couches du réseau à l'envers. On finit à l'indexe 2 car nous ne voulons pas modifier la couche input.\n",
    "          # On remplit donc aussi la matrice gradient depuis la dernière ligne jusqu'à la première.\n",
    "          # On calcule de la ligne de la matrice gradient de la couche PRECEDENTE.\n",
    "          for i in range(1, self.d[l - 1] + 1):\n",
    "          total = 0.0\n",
    "          for j in range(1, self.d[l] + 1):\n",
    "            total += self.W[l][i][j] * self.X[l - 1][i]\n",
    "          total *= 1 - self.X[l - 1][i] ** 2\n",
    "          self.deltas[l - 1][i] = total\n",
    "\n",
    "        # Maintenant que la matrice gradient a été calculer, nous pouvons pettre à jours les poids de chaque couches\n",
    "      for l in range(1, self.L + 1): # Parcours de chaques couche à part la première (input)\n",
    "\n",
    "          # Parcours de la matrice de poids de la couche l\n",
    "        for i in range(0, self.d[l - 1] + 1):\n",
    "          for j in range(1, self.d[l] + 1):\n",
    "              # la formule pour l'update d'un poid w_i_j est : w = learning_rate * output_neurone_précédent * gradient_erreur_w\n",
    "            self.W[l][i][j] -= alpha * self.X[l - 1][i] * self.deltas[l][j] # Update de chaque poids"
   ]
  },
  {
   "cell_type": "markdown",
   "metadata": {
    "id": "rPJ1S2tLO_cE"
   },
   "source": [
    "# First Test Case"
   ]
  },
  {
   "cell_type": "code",
   "execution_count": 74,
   "metadata": {
    "id": "CCUvLAAIEG5K"
   },
   "outputs": [],
   "source": [
    "X = [\n",
    "    [0.0, 0.0],\n",
    "]\n",
    "\n",
    "Y = [\n",
    "    [-1.0],\n",
    "]"
   ]
  },
  {
   "cell_type": "code",
   "execution_count": 69,
   "metadata": {
    "id": "cmyoLSPnPem5"
   },
   "outputs": [
    {
     "name": "stdout",
     "output_type": "stream",
     "text": [
      "[[], [[0.0, 0.011624982558983143], [0.0, -0.7281673031256608], [0.0, -0.6632004129998008], [0.0, -0.37747527777544065]], [[0.0, 0.20331438915973732], [0.0, -0.3030778903053346]]]\n",
      "[[1.0, 0.0, 0.0, 0.0], [1.0, 0.0], [1.0, 0.0]]\n",
      "[[0.0, 0.0, 0.0, 0.0], [0.0, 0.0], [0.0, 0.0]]\n"
     ]
    }
   ],
   "source": [
    "model = MyMLP([3, 1, 1])"
   ]
  },
  {
   "cell_type": "code",
   "execution_count": 76,
   "metadata": {
    "id": "Wt9gLGvWFt0O"
   },
   "outputs": [
    {
     "name": "stdout",
     "output_type": "stream",
     "text": [
      "[[0.0, 0.0, 0.0, 0.0], [0.0, 0.0], [0.0, 0.03024555351560286]]\n"
     ]
    }
   ],
   "source": [
    "model.train(X, Y, 0.1, 100, True)\n",
    "print(model.deltas)"
   ]
  },
  {
   "cell_type": "code",
   "execution_count": 75,
   "metadata": {
    "colab": {
     "base_uri": "https://localhost:8080/"
    },
    "id": "7jVIMaSWJkPF",
    "outputId": "0cf3a8b3-a1ba-49e2-d03b-95709346d4f0"
   },
   "outputs": [
    {
     "name": "stdout",
     "output_type": "stream",
     "text": [
      "[0.20336972569432082]\n"
     ]
    }
   ],
   "source": [
    "for k in range(len(X)):\n",
    "  print(model.predict(X[k], True))"
   ]
  },
  {
   "cell_type": "markdown",
   "metadata": {
    "id": "bCbv6NlyPxOJ"
   },
   "source": [
    "#XOR Test case"
   ]
  },
  {
   "cell_type": "code",
   "execution_count": 29,
   "metadata": {
    "id": "nk60BWCaPW0E"
   },
   "outputs": [],
   "source": [
    "X = [\n",
    "    [0.0, 0.0],\n",
    "    [0.0, 1.0],\n",
    "    [1.0, 0.0],\n",
    "    [1.0, 1.0]\n",
    "]\n",
    "\n",
    "Y = [\n",
    "    [-1.0],\n",
    "    [1.0],\n",
    "    [1.0],\n",
    "    [-1.0]\n",
    "]"
   ]
  },
  {
   "cell_type": "code",
   "execution_count": 41,
   "metadata": {
    "id": "MKNdEF_eP5yR"
   },
   "outputs": [
    {
     "name": "stdout",
     "output_type": "stream",
     "text": [
      "[[0.0, 0.0, 0.0], [0.0, 0.0, 0.0, 0.0], [0.0, 0.0]]\n"
     ]
    }
   ],
   "source": [
    "model = MyMLP([2, 3, 1])"
   ]
  },
  {
   "cell_type": "code",
   "execution_count": 33,
   "metadata": {
    "id": "a3b1pzgnP7vF"
   },
   "outputs": [],
   "source": [
    "model.train(X, Y, 0.1, 100000, True)"
   ]
  },
  {
   "cell_type": "code",
   "execution_count": 21,
   "metadata": {
    "colab": {
     "base_uri": "https://localhost:8080/"
    },
    "id": "KlfU4wDfP-XF",
    "outputId": "5dde6313-59d5-49d8-ecb1-1e10075c657b"
   },
   "outputs": [
    {
     "name": "stdout",
     "output_type": "stream",
     "text": [
      "[-0.9509343416718622]\n",
      "[0.9520459871350092]\n",
      "[0.9483232994131923]\n",
      "[-0.9479276665296482]\n"
     ]
    }
   ],
   "source": [
    "for k in range(len(X)):\n",
    "  print(model.predict(X[k], True))"
   ]
  },
  {
   "cell_type": "markdown",
   "metadata": {
    "id": "KQN7IX9ZTJpn"
   },
   "source": [
    "#Simple Regression Test Cases"
   ]
  },
  {
   "cell_type": "code",
   "execution_count": 11,
   "metadata": {
    "id": "icaeHhVsP-24"
   },
   "outputs": [],
   "source": [
    "X = [\n",
    "    [3.0],\n",
    "    [7.0],\n",
    "]\n",
    "\n",
    "Y = [\n",
    "    [8.0],\n",
    "    [2.0],\n",
    "]"
   ]
  },
  {
   "cell_type": "code",
   "execution_count": 12,
   "metadata": {
    "id": "4jWEWjV7TdBP"
   },
   "outputs": [],
   "source": [
    "model = MyMLP([1, 1])"
   ]
  },
  {
   "cell_type": "code",
   "execution_count": 13,
   "metadata": {
    "id": "Hm96v4BXTjPm"
   },
   "outputs": [],
   "source": [
    "model.train(X, Y, 0.0001, 1000000, False)"
   ]
  },
  {
   "cell_type": "code",
   "execution_count": 14,
   "metadata": {
    "colab": {
     "base_uri": "https://localhost:8080/"
    },
    "id": "-zbwdWYrTmGq",
    "outputId": "7c053a83-6f76-4080-b7ef-f6d506b96cff"
   },
   "outputs": [
    {
     "name": "stdout",
     "output_type": "stream",
     "text": [
      "[7.999990647516911]\n",
      "[2.0000040111660624]\n"
     ]
    }
   ],
   "source": [
    "for k in range(len(X)):\n",
    "  print(model.predict(X[k], False))"
   ]
  },
  {
   "cell_type": "markdown",
   "metadata": {
    "id": "PXHG5uJqUUef"
   },
   "source": [
    "#Non Linear regression test case"
   ]
  },
  {
   "cell_type": "code",
   "execution_count": 15,
   "metadata": {
    "id": "r3UXOYpET90R"
   },
   "outputs": [],
   "source": [
    "X = [\n",
    "    [3.0],\n",
    "    [7.0],\n",
    "    [9.0],\n",
    "]\n",
    "\n",
    "Y = [\n",
    "    [8.0],\n",
    "    [2.0],\n",
    "    [6.0],\n",
    "]"
   ]
  },
  {
   "cell_type": "code",
   "execution_count": 16,
   "metadata": {
    "id": "hYkrhvaEUcMr"
   },
   "outputs": [],
   "source": [
    "model = MyMLP([1, 1])"
   ]
  },
  {
   "cell_type": "code",
   "execution_count": 17,
   "metadata": {
    "id": "ia-ocL-vUimf"
   },
   "outputs": [],
   "source": [
    "model.train(X, Y, 0.0001, 1000000, False)"
   ]
  },
  {
   "cell_type": "code",
   "execution_count": 18,
   "metadata": {
    "colab": {
     "base_uri": "https://localhost:8080/"
    },
    "id": "anvcfMUUUj1P",
    "outputId": "9c632604-4646-4d8d-96e0-68b0e5c94c23"
   },
   "outputs": [
    {
     "name": "stdout",
     "output_type": "stream",
     "text": [
      "[6.964602670862892]\n",
      "[4.9161848651731646]\n",
      "[3.891975962328301]\n"
     ]
    }
   ],
   "source": [
    "predictions = []\n",
    "for k in range(len(X)):\n",
    "  predictions.append(model.predict(X[k], False))\n",
    "  print(predictions[k])"
   ]
  },
  {
   "cell_type": "code",
   "execution_count": 19,
   "metadata": {
    "id": "3cTRcXKPUlPc"
   },
   "outputs": [],
   "source": [
    "import matplotlib.pyplot as plt\n",
    "import numpy as np"
   ]
  },
  {
   "cell_type": "code",
   "execution_count": 20,
   "metadata": {
    "colab": {
     "base_uri": "https://localhost:8080/",
     "height": 430
    },
    "id": "x2raj5dUUsU0",
    "outputId": "ca709f77-d8cc-4687-9080-f887f2f3e832"
   },
   "outputs": [
    {
     "data": {
      "image/png": "[encoded data removed]",
      "text/plain": [
       "<Figure size 640x480 with 1 Axes>"
      ]
     },
     "metadata": {},
     "output_type": "display_data"
    }
   ],
   "source": [
    "plt.scatter(np.array(X).flatten(), np.array(Y).flatten())\n",
    "plt.scatter(np.array(X).flatten(), np.array(predictions).flatten(), c='red')\n",
    "plt.show()"
   ]
  },
  {
   "cell_type": "code",
   "execution_count": 26,
   "metadata": {
    "id": "pXZM-K_EU4xC"
   },
   "outputs": [],
   "source": [
    "model = MyMLP([1, 3, 1])"
   ]
  },
  {
   "cell_type": "code",
   "execution_count": 27,
   "metadata": {
    "id": "vkoKTISdVXHR"
   },
   "outputs": [],
   "source": [
    "model.train(X, Y, 0.01, 10000000, False)"
   ]
  },
  {
   "cell_type": "code",
   "execution_count": 28,
   "metadata": {
    "colab": {
     "base_uri": "https://localhost:8080/"
    },
    "id": "OKO0Uq2GVYUJ",
    "outputId": "19ff78dc-45cf-4a68-b8a9-fd5b4a7f3045"
   },
   "outputs": [
    {
     "name": "stdout",
     "output_type": "stream",
     "text": [
      "[7.999856974820702]\n",
      "[2.00096142747023]\n",
      "[5.999252816531396]\n"
     ]
    }
   ],
   "source": [
    "predictions = []\n",
    "for k in range(len(X)):\n",
    "  predictions.append(model.predict(X[k], False))\n",
    "  print(predictions[k])"
   ]
  },
  {
   "cell_type": "code",
   "execution_count": 29,
   "metadata": {
    "id": "Y5kFt9hAVY9d"
   },
   "outputs": [],
   "source": [
    "predictions_inputs = []\n",
    "predictions = []\n",
    "for i in range(100):\n",
    "  predictions_inputs.append(i / 10.0)\n",
    "  predictions.append(model.predict([i/ 10.0], False)[0])"
   ]
  },
  {
   "cell_type": "code",
   "execution_count": 30,
   "metadata": {
    "colab": {
     "base_uri": "https://localhost:8080/",
     "height": 430
    },
    "id": "8w1fYc3lWC6w",
    "outputId": "22677f72-8d30-4438-9b1a-810c6672f7ec"
   },
   "outputs": [
    {
     "data": {
      "image/png": "[encoded data removed]",
      "text/plain": [
       "<Figure size 640x480 with 1 Axes>"
      ]
     },
     "metadata": {},
     "output_type": "display_data"
    }
   ],
   "source": [
    "plt.scatter(predictions_inputs, predictions, c='red')\n",
    "plt.scatter(np.array(X).flatten(), np.array(Y).flatten())\n",
    "plt.show()"
   ]
  },
  {
   "cell_type": "code",
   "execution_count": 25,
   "metadata": {
    "id": "WfW1os-6WMkS"
   },
   "outputs": [],
   "source": []
  }
 ],
 "metadata": {
  "colab": {
   "provenance": []
  },
  "kernelspec": {
   "display_name": "Python 3 (ipykernel)",
   "language": "python",
   "name": "python3"
  },
  "language_info": {
   "codemirror_mode": {
    "name": "ipython",
    "version": 3
   },
   "file_extension": ".py",
   "mimetype": "text/x-python",
   "name": "python",
   "nbconvert_exporter": "python",
   "pygments_lexer": "ipython3",
   "version": "3.10.12"
  }
 },
 "nbformat": 4,
 "nbformat_minor": 4
}
