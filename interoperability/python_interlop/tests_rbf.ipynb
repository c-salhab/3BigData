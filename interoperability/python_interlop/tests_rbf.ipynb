{
 "cells": [
  {
   "cell_type": "markdown",
   "id": "31daa3c7741f5453",
   "metadata": {},
   "source": [
    "# Modèle RBF : Classification\n",
    "\n",
    "### Importation de la lib :"
   ]
  },
  {
   "cell_type": "code",
   "id": "initial_id",
   "metadata": {
    "ExecuteTime": {
     "end_time": "2024-06-11T21:40:17.981724Z",
     "start_time": "2024-06-11T21:40:17.127108Z"
    }
   },
   "source": [
    "from interoperability.python_interlop.wrapper import MyModel\n",
    "import numpy as np\n",
    "\n",
    "model_type = \"rbf\""
   ],
   "outputs": [],
   "execution_count": 1
  },
  {
   "cell_type": "markdown",
   "id": "8533447cc997aaff",
   "metadata": {},
   "source": [
    "### Linear simple :"
   ]
  },
  {
   "cell_type": "code",
   "id": "96a7919859ce5dfa",
   "metadata": {
    "jupyter": {
     "is_executing": true
    },
    "ExecuteTime": {
     "start_time": "2024-06-11T21:40:17.983723Z"
    }
   },
   "source": [
    "X = np.array([\n",
    "    [1, 1],\n",
    "    [2, 3],\n",
    "    [3, 3]\n",
    "])\n",
    "Y = np.array([\n",
    "    1,\n",
    "    -1,\n",
    "    -1\n",
    "])\n",
    "\n",
    "model = MyModel(model_type, 2, cluster_size=2, gamma=2, is_classification=True)\n",
    "\n",
    "model.train(X, Y, 0.01, 100)\n",
    "\n",
    "model.print_classif(4, 4, 0.01)\n"
   ],
   "outputs": [],
   "execution_count": null
  },
  {
   "cell_type": "markdown",
   "id": "d2775a1c1ff3b860",
   "metadata": {},
   "source": [
    "### Linear Multiple :"
   ]
  },
  {
   "cell_type": "code",
   "id": "ea81c014f1bd6518",
   "metadata": {
    "jupyter": {
     "is_executing": true
    }
   },
   "source": [
    "X = np.concatenate(\n",
    "    [np.random.random((50, 2)) * 0.9 + np.array([1, 1]), np.random.random((50, 2)) * 0.9 + np.array([2, 2])])\n",
    "Y = np.concatenate([np.ones((50, 1)), np.ones((50, 1)) * -1.0])\n",
    "\n",
    "model = MyModel(model_type, (2, 1), is_classification=True)\n",
    "\n",
    "model.train(X, Y, 0.01, 10_000)\n",
    "\n",
    "model.print_classif(4, 4, 0.01)"
   ],
   "outputs": [],
   "execution_count": null
  },
  {
   "cell_type": "markdown",
   "id": "8c32966f4fd55b94",
   "metadata": {},
   "source": [
    "### XOR :"
   ]
  },
  {
   "cell_type": "code",
   "id": "ad094533aa8fbf11",
   "metadata": {
    "jupyter": {
     "is_executing": true
    }
   },
   "source": [
    "X = np.array([[1, 0], [0, 1], [0, 0], [1, 1]])\n",
    "Y = np.array([1, 1, -1, -1])\n",
    "\n",
    "model = MyModel(model_type, (2,2,1), is_classification=True)\n",
    "\n",
    "model.train(X, Y, 0.1, 100_000)\n",
    "\n",
    "model.print_classif(1.2, 1.2, 0.01, -0.2, -0.2)\n",
    "\n",
    "model.delete()"
   ],
   "outputs": [],
   "execution_count": null
  },
  {
   "cell_type": "markdown",
   "id": "97f1514f76c28b96",
   "metadata": {},
   "source": [
    "### Cross"
   ]
  },
  {
   "cell_type": "code",
   "id": "389fe034acfab396",
   "metadata": {
    "jupyter": {
     "is_executing": true
    }
   },
   "source": [
    "X = np.random.random((500, 2)) * 2.0 - 1.0\n",
    "Y = np.array([1 if abs(p[0]) <= 0.3 or abs(p[1]) <= 0.3 else -1 for p in X])\n",
    "\n",
    "#model = MyModel(model_type, (2,4,1), is_classification=True)\n",
    "\n",
    "#model.train(X, Y, 0.1, 1_000)\n",
    "\n",
    "#model.print_classif(1, 1, 0.01, -1, -1)"
   ],
   "outputs": [],
   "execution_count": null
  },
  {
   "cell_type": "markdown",
   "id": "5fecb3e9024c7f15",
   "metadata": {},
   "source": [
    "### Multi linear 3 classes"
   ]
  },
  {
   "cell_type": "code",
   "id": "de6a1614ad9d24ba",
   "metadata": {
    "jupyter": {
     "is_executing": true
    }
   },
   "source": [
    "#X = np.random.random((500, 2)) * 2.0 - 1.0\n",
    "#Y = np.array([[1, 0, 0] if -p[0] - p[1] - 0.5 > 0 > p[1] and p[0] - p[1] - 0.5 < 0 else\n",
    " #             [0, 1, 0] if -p[0] - p[1] - 0.5 < 0 < p[1] and p[0] - p[1] - 0.5 < 0 else\n",
    "  #            [0, 0, 1] if -p[0] - p[1] - 0.5 < 0 < p[0] - p[1] - 0.5 and p[1] < 0 else\n",
    "   #           [0, 0, 0] for p in X])\n",
    "\n",
    "#X = X[[not np.all(arr == [0, 0, 0]) for arr in Y]]\n",
    "#Y = Y[[not np.all(arr == [0, 0, 0]) for arr in Y]]\n",
    "\n",
    "#model = MyModel(model_type, 2, is_classification=True, is_3_classes=True)"
   ],
   "outputs": [],
   "execution_count": null
  },
  {
   "cell_type": "code",
   "id": "6cf1cdabb85fd201",
   "metadata": {
    "jupyter": {
     "is_executing": true
    }
   },
   "source": [
    "\n",
    "#model.train(X, Y, 0.1, 10_000_000)\n",
    "\n",
    "#model.print_classif(1, 1, 0.01, -1, -1)"
   ],
   "outputs": [],
   "execution_count": null
  },
  {
   "cell_type": "markdown",
   "id": "59e2c47d0dc36927",
   "metadata": {},
   "source": [
    "### Multicross :"
   ]
  },
  {
   "cell_type": "code",
   "id": "2f4764654684902b",
   "metadata": {
    "jupyter": {
     "is_executing": true
    }
   },
   "source": [
    "#X = np.random.random((1000, 2)) * 2.0 - 1.0\n",
    "#Y = np.array([[1, 0, 0] if abs(p[0] % 0.5) <= 0.25 < abs(p[1] % 0.5) else [0, 1, 0] if abs(\n",
    " #   p[0] % 0.5) > 0.25 >= abs(p[1] % 0.5) else [0, 0, 1] for p in X])\n",
    "\n",
    "#model = MyModel(model_type, 2, is_classification=True, is_3_classes=True)\n",
    "\n",
    "#model.train(X, Y, 0.001, 1_000)\n",
    "\n",
    "#model.print_classif(1, 1, 0.1, -1, -1)"
   ],
   "outputs": [],
   "execution_count": null
  },
  {
   "cell_type": "markdown",
   "id": "1c9cd26985adbe80",
   "metadata": {},
   "source": [
    "# Régression\n",
    "### Linéaire simple 2D"
   ]
  },
  {
   "cell_type": "code",
   "id": "91ad066fc11a0a82",
   "metadata": {
    "jupyter": {
     "is_executing": true
    }
   },
   "source": [
    "X = np.array([\n",
    "    [1],\n",
    "    [2]\n",
    "])\n",
    "Y = np.array([\n",
    "    2,\n",
    "    3\n",
    "])\n",
    "\n",
    "model = MyModel(model_type, (1,1))\n",
    "print(\"ini\")\n",
    "model.train(X, Y, 0.1, 1_000)\n",
    "print(\"train\")\n",
    "model.print_regression()"
   ],
   "outputs": [],
   "execution_count": null
  },
  {
   "cell_type": "markdown",
   "id": "bd6e462e85736c67",
   "metadata": {},
   "source": [
    "### Non Linéaire Simple :"
   ]
  },
  {
   "cell_type": "code",
   "id": "52e5198f6450ebd9",
   "metadata": {
    "jupyter": {
     "is_executing": true
    }
   },
   "source": [
    "X = np.array([\n",
    "      [1],\n",
    "      [2],\n",
    "      [3]\n",
    "])\n",
    "Y = np.array([\n",
    "      2,\n",
    "      3,\n",
    "      2.5\n",
    "])\n",
    "\n",
    "model = MyModel(model_type, (1,2,1))\n",
    "\n",
    "model.train(X, Y, 0.01, 10_000_000)\n",
    "\n",
    "model.print_regression()"
   ],
   "outputs": [],
   "execution_count": null
  },
  {
   "cell_type": "markdown",
   "id": "7cb5ae6ba3233de3",
   "metadata": {},
   "source": [
    "### Linéaire simple 3D"
   ]
  },
  {
   "cell_type": "code",
   "id": "aa27f36731679119",
   "metadata": {
    "jupyter": {
     "is_executing": true
    }
   },
   "source": [
    "X = np.array([\n",
    "      [1, 1],\n",
    "      [2, 2],\n",
    "      [3, 3]\n",
    "])\n",
    "Y = np.array([\n",
    "      1,\n",
    "      2,\n",
    "      3\n",
    "])\n",
    "\n",
    "model = MyModel(model_type, (2,1))\n",
    "\n",
    "model.train(X, Y, 0.1, 1_000)\n",
    "\n",
    "model.print_regression()"
   ],
   "outputs": [],
   "execution_count": null
  },
  {
   "cell_type": "markdown",
   "id": "fbc7b7ffe6e8844d",
   "metadata": {},
   "source": [
    "### Linéaire tricky 3D"
   ]
  },
  {
   "cell_type": "code",
   "id": "3e3e3c574bbd019f",
   "metadata": {
    "jupyter": {
     "is_executing": true
    }
   },
   "source": [
    "X = np.array([\n",
    "      [1, 1],\n",
    "      [2, 2],\n",
    "      [3, 3]\n",
    "])\n",
    "Y = np.array([\n",
    "      1,\n",
    "      2,\n",
    "      3\n",
    "])\n",
    "\n",
    "model = MyModel(model_type, (2,1))\n",
    "\n",
    "model.train(X, Y, 0.1, 1_000)\n",
    "\n",
    "model.print_regression()"
   ],
   "outputs": [],
   "execution_count": null
  },
  {
   "cell_type": "markdown",
   "id": "8d71e2b9eabc9f9e",
   "metadata": {},
   "source": [
    "### Non linéaire simple 3D"
   ]
  },
  {
   "cell_type": "code",
   "id": "3855eb4dfe97f7bb",
   "metadata": {
    "jupyter": {
     "is_executing": true
    }
   },
   "source": [
    "X = np.array([\n",
    "      [1, 0],\n",
    "      [0, 1],\n",
    "      [1, 1],\n",
    "      [0, 0],\n",
    "])\n",
    "Y = np.array([\n",
    "      2,\n",
    "      1,\n",
    "      -2,\n",
    "      -1\n",
    "])\n",
    "\n",
    "model = MyModel(model_type, (2,2,1))\n",
    "\n",
    "model.train(X, Y, 0.1, 1_000)\n",
    "\n",
    "model.print_regression()"
   ],
   "outputs": [],
   "execution_count": null
  }
 ],
 "metadata": {
  "kernelspec": {
   "display_name": "Python 3 (ipykernel)",
   "language": "python",
   "name": "python3"
  },
  "language_info": {
   "codemirror_mode": {
    "name": "ipython",
    "version": 3
   },
   "file_extension": ".py",
   "mimetype": "text/x-python",
   "name": "python",
   "nbconvert_exporter": "python",
   "pygments_lexer": "ipython3",
   "version": "3.12.1"
  }
 },
 "nbformat": 4,
 "nbformat_minor": 5
}
