{
 "cells": [
  {
   "cell_type": "markdown",
   "id": "31daa3c7741f5453",
   "metadata": {},
   "source": [
    "# Modèle RBF : Classification\n",
    "\n",
    "### Importation de la lib :"
   ]
  },
  {
   "cell_type": "code",
   "id": "initial_id",
   "metadata": {
    "ExecuteTime": {
     "end_time": "2024-07-21T13:41:11.447662Z",
     "start_time": "2024-07-21T13:41:10.454943Z"
    }
   },
   "source": [
    "from interoperability.python_interlop.wrapper.my_lib import MyModel\n",
    "import numpy as np\n",
    "\n",
    "model_type = \"rbf\""
   ],
   "outputs": [],
   "execution_count": 1
  },
  {
   "cell_type": "markdown",
   "id": "8533447cc997aaff",
   "metadata": {},
   "source": [
    "### Linear simple :"
   ]
  },
  {
   "cell_type": "code",
   "id": "96a7919859ce5dfa",
   "metadata": {
    "ExecuteTime": {
     "end_time": "2024-07-21T13:41:21.065076Z",
     "start_time": "2024-07-21T13:41:14.188714Z"
    }
   },
   "source": [
    "X = np.array([\n",
    "    [1, 1],\n",
    "    [2, 3],\n",
    "    [3, 3]\n",
    "])\n",
    "Y = np.array([\n",
    "    1,\n",
    "    -1,\n",
    "    -1\n",
    "])\n",
    "\n",
    "model = MyModel(model_type, size=3, cluster_size=2, gamma=1.0, is_classification=True)\n",
    "model.train(x_train=X, y_train=Y, learning_rate=0.01, epochs=100, sample_count=3)\n",
    "model.print_classification(4, 4, 0.01)\n"
   ],
   "outputs": [
    {
     "name": "stdout",
     "output_type": "stream",
     "text": [
      "rbf\n",
      "Initializing the model...\n",
      "Training the model...\n",
      "Printing the training data...\n"
     ]
    },
    {
     "data": {
      "text/plain": [
       "<Figure size 640x480 with 1 Axes>"
      ],
      "image/png": "[encoded data removed]"
     },
     "metadata": {},
     "output_type": "display_data"
    },
    {
     "data": {
      "text/plain": [
       "<Figure size 640x480 with 0 Axes>"
      ]
     },
     "metadata": {},
     "output_type": "display_data"
    }
   ],
   "execution_count": 2
  },
  {
   "cell_type": "markdown",
   "id": "d2775a1c1ff3b860",
   "metadata": {},
   "source": [
    "### Linear Multiple :"
   ]
  },
  {
   "cell_type": "code",
   "id": "ea81c014f1bd6518",
   "metadata": {
    "ExecuteTime": {
     "start_time": "2024-07-21T10:12:27.176806Z"
    }
   },
   "source": [
    "X = np.concatenate(\n",
    "    [np.random.random((50, 2)) * 0.9 + np.array([1, 1]), np.random.random((50, 2)) * 0.9 + np.array([2, 2])])\n",
    "Y = np.concatenate([np.ones((50, 1)), np.ones((50, 1)) * -1.0])\n",
    "\n",
    "input_dim = len(X)\n",
    "\n",
    "model = MyModel(model_type, input_dim, cluster_size=10, gamma=1.0, is_classification=True)\n",
    "\n",
    "model.train(x_train=X, y_train=Y,learning_rate=0.01, epochs=1000)\n",
    "\n",
    "model.print_classification(4, 4, 0.01)"
   ],
   "outputs": [],
   "execution_count": null
  },
  {
   "cell_type": "markdown",
   "id": "8c32966f4fd55b94",
   "metadata": {},
   "source": [
    "### XOR :"
   ]
  },
  {
   "cell_type": "code",
   "id": "ad094533aa8fbf11",
   "metadata": {
    "ExecuteTime": {
     "end_time": "2024-07-06T15:20:13.143800Z",
     "start_time": "2024-07-06T15:20:13.004913Z"
    }
   },
   "source": [
    "X = np.array([[1, 0], [0, 1], [0, 0], [1, 1]])\n",
    "Y = np.array([1, 1, -1, -1])\n",
    "\n",
    "input_dim = len(X)\n",
    "\n",
    "model = MyModel(model_type, input_dim, cluster_size=4, gamma=2.0, is_classification=True)\n",
    "\n",
    "model.train(X, Y, 0.01, 1000)\n",
    "\n",
    "model.print_classification(1.2, 1.2, 0.01, -0.2, -0.2)\n"
   ],
   "outputs": [
    {
     "name": "stdout",
     "output_type": "stream",
     "text": [
      "Initializing the model...\n"
     ]
    },
    {
     "ename": "ArgumentError",
     "evalue": "argument 1: TypeError: wrong type",
     "output_type": "error",
     "traceback": [
      "\u001B[1;31m---------------------------------------------------------------------------\u001B[0m",
      "\u001B[1;31mArgumentError\u001B[0m                             Traceback (most recent call last)",
      "Cell \u001B[1;32mIn[5], line 4\u001B[0m\n\u001B[0;32m      1\u001B[0m X \u001B[38;5;241m=\u001B[39m np\u001B[38;5;241m.\u001B[39marray([[\u001B[38;5;241m1\u001B[39m, \u001B[38;5;241m0\u001B[39m], [\u001B[38;5;241m0\u001B[39m, \u001B[38;5;241m1\u001B[39m], [\u001B[38;5;241m0\u001B[39m, \u001B[38;5;241m0\u001B[39m], [\u001B[38;5;241m1\u001B[39m, \u001B[38;5;241m1\u001B[39m]])\n\u001B[0;32m      2\u001B[0m Y \u001B[38;5;241m=\u001B[39m np\u001B[38;5;241m.\u001B[39marray([\u001B[38;5;241m1\u001B[39m, \u001B[38;5;241m1\u001B[39m, \u001B[38;5;241m-\u001B[39m\u001B[38;5;241m1\u001B[39m, \u001B[38;5;241m-\u001B[39m\u001B[38;5;241m1\u001B[39m])\n\u001B[1;32m----> 4\u001B[0m model \u001B[38;5;241m=\u001B[39m \u001B[43mMyModel\u001B[49m\u001B[43m(\u001B[49m\u001B[43mmodel_type\u001B[49m\u001B[43m,\u001B[49m\u001B[43m \u001B[49m\u001B[43m(\u001B[49m\u001B[38;5;241;43m2\u001B[39;49m\u001B[43m,\u001B[49m\u001B[38;5;241;43m2\u001B[39;49m\u001B[43m,\u001B[49m\u001B[38;5;241;43m1\u001B[39;49m\u001B[43m)\u001B[49m\u001B[43m,\u001B[49m\u001B[43m \u001B[49m\u001B[43mis_classification\u001B[49m\u001B[38;5;241;43m=\u001B[39;49m\u001B[38;5;28;43;01mTrue\u001B[39;49;00m\u001B[43m)\u001B[49m\n\u001B[0;32m      6\u001B[0m model\u001B[38;5;241m.\u001B[39mtrain(X, Y, \u001B[38;5;241m0.1\u001B[39m, \u001B[38;5;241m100_000\u001B[39m)\n\u001B[0;32m      8\u001B[0m model\u001B[38;5;241m.\u001B[39mprint_classif(\u001B[38;5;241m1.2\u001B[39m, \u001B[38;5;241m1.2\u001B[39m, \u001B[38;5;241m0.01\u001B[39m, \u001B[38;5;241m-\u001B[39m\u001B[38;5;241m0.2\u001B[39m, \u001B[38;5;241m-\u001B[39m\u001B[38;5;241m0.2\u001B[39m)\n",
      "File \u001B[1;32m~\\OneDrive\\Online Sessions\\3iabd1\\projet annuel\\3BigData\\interoperability\\python_interlop\\wrapper\\my_lib.py:36\u001B[0m, in \u001B[0;36mMyModel.__init__\u001B[1;34m(self, model_type, size, is_classification, is_3_classes, cluster_size, gamma)\u001B[0m\n\u001B[0;32m     33\u001B[0m \u001B[38;5;28mprint\u001B[39m(\u001B[38;5;124m\"\u001B[39m\u001B[38;5;124mInitializing the model...\u001B[39m\u001B[38;5;124m\"\u001B[39m)\n\u001B[0;32m     35\u001B[0m \u001B[38;5;28;01mif\u001B[39;00m \u001B[38;5;129;01mnot\u001B[39;00m \u001B[38;5;28mself\u001B[39m\u001B[38;5;241m.\u001B[39m__is_3_classes \u001B[38;5;129;01mor\u001B[39;00m \u001B[38;5;28mself\u001B[39m\u001B[38;5;241m.\u001B[39m__type \u001B[38;5;241m!=\u001B[39m \u001B[38;5;124m\"\u001B[39m\u001B[38;5;124mml\u001B[39m\u001B[38;5;124m\"\u001B[39m:\n\u001B[1;32m---> 36\u001B[0m     \u001B[38;5;28mself\u001B[39m\u001B[38;5;241m.\u001B[39mmodel \u001B[38;5;241m=\u001B[39m \u001B[38;5;28;43mself\u001B[39;49m\u001B[38;5;241;43m.\u001B[39;49m\u001B[43m_init_model\u001B[49m\u001B[43m(\u001B[49m\u001B[43m)\u001B[49m\n\u001B[0;32m     37\u001B[0m \u001B[38;5;28;01melse\u001B[39;00m:\n\u001B[0;32m     38\u001B[0m     \u001B[38;5;66;03m# Initialise les modèles linéaires en tant que regression pour pouvoir\u001B[39;00m\n\u001B[0;32m     39\u001B[0m     \u001B[38;5;66;03m# comparer les résultat de chaque One vs Rest\u001B[39;00m\n\u001B[0;32m     40\u001B[0m     \u001B[38;5;28mself\u001B[39m\u001B[38;5;241m.\u001B[39m__is_classification \u001B[38;5;241m=\u001B[39m \u001B[38;5;28;01mFalse\u001B[39;00m\n",
      "File \u001B[1;32m~\\OneDrive\\Online Sessions\\3iabd1\\projet annuel\\3BigData\\interoperability\\python_interlop\\wrapper\\my_lib.py:55\u001B[0m, in \u001B[0;36mMyModel._init_model\u001B[1;34m(self)\u001B[0m\n\u001B[0;32m     53\u001B[0m     \u001B[38;5;28;01mreturn\u001B[39;00m my_lib\u001B[38;5;241m.\u001B[39minit_mlp(raw_size, \u001B[38;5;28mlen\u001B[39m(\u001B[38;5;28mself\u001B[39m\u001B[38;5;241m.\u001B[39m__dims), \u001B[38;5;28mself\u001B[39m\u001B[38;5;241m.\u001B[39m__is_classification)\n\u001B[0;32m     54\u001B[0m \u001B[38;5;28;01melif\u001B[39;00m \u001B[38;5;28mself\u001B[39m\u001B[38;5;241m.\u001B[39m__type \u001B[38;5;241m==\u001B[39m \u001B[38;5;124m\"\u001B[39m\u001B[38;5;124mrbf\u001B[39m\u001B[38;5;124m\"\u001B[39m:\n\u001B[1;32m---> 55\u001B[0m     \u001B[38;5;28;01mreturn\u001B[39;00m \u001B[43mmy_lib\u001B[49m\u001B[38;5;241;43m.\u001B[39;49m\u001B[43minit_rbf\u001B[49m\u001B[43m(\u001B[49m\u001B[38;5;28;43mself\u001B[39;49m\u001B[38;5;241;43m.\u001B[39;49m\u001B[43m__dims\u001B[49m\u001B[43m,\u001B[49m\u001B[43m \u001B[49m\u001B[38;5;28;43mself\u001B[39;49m\u001B[38;5;241;43m.\u001B[39;49m\u001B[43m__cluster_size\u001B[49m\u001B[43m,\u001B[49m\u001B[43m \u001B[49m\u001B[38;5;28;43mself\u001B[39;49m\u001B[38;5;241;43m.\u001B[39;49m\u001B[43m__gamma\u001B[49m\u001B[43m)\u001B[49m\n",
      "\u001B[1;31mArgumentError\u001B[0m: argument 1: TypeError: wrong type"
     ]
    }
   ],
   "execution_count": 5
  },
  {
   "cell_type": "markdown",
   "id": "97f1514f76c28b96",
   "metadata": {},
   "source": [
    "### Cross"
   ]
  },
  {
   "cell_type": "code",
   "id": "389fe034acfab396",
   "metadata": {},
   "source": [
    "X = np.random.random((500, 2)) * 2.0 - 1.0\n",
    "Y = np.array([1 if abs(p[0]) <= 0.3 or abs(p[1]) <= 0.3 else -1 for p in X])\n",
    "\n",
    "input_dim = len(X)\n",
    "\n",
    "with MyModel(model_type, 2, is_classification=True) as model:\n",
    "    model.train(X, Y, 0.1, 1_000)\n",
    "    model.print_classification(1, 1, 0.01, -1, -1)"
   ],
   "outputs": [],
   "execution_count": null
  },
  {
   "cell_type": "markdown",
   "id": "5fecb3e9024c7f15",
   "metadata": {},
   "source": [
    "### Multi linear 3 classes"
   ]
  },
  {
   "cell_type": "code",
   "id": "de6a1614ad9d24ba",
   "metadata": {},
   "source": [
    "X = np.random.random((500, 2)) * 2.0 - 1.0\n",
    "Y = np.array([[1, 0, 0] if -p[0] - p[1] - 0.5 > 0 > p[1] and p[0] - p[1] - 0.5 < 0 else\n",
    "              [0, 1, 0] if -p[0] - p[1] - 0.5 < 0 < p[1] and p[0] - p[1] - 0.5 < 0 else\n",
    "              [0, 0, 1] if -p[0] - p[1] - 0.5 < 0 < p[0] - p[1] - 0.5 and p[1] < 0 else\n",
    "              [0, 0, 0] for p in X])\n",
    "\n",
    "X = X[[not np.all(arr == [0, 0, 0]) for arr in Y]]\n",
    "Y = Y[[not np.all(arr == [0, 0, 0]) for arr in Y]]\n",
    "\n",
    "input_dim = len(X)\n",
    "with MyModel(model_type, input_dim, cluster_size=6, gamma=1.0, is_classification=True) as model :\n",
    "    model.train(X, Y, 0.01, 10_000)\n",
    "    model.print_classification(1, 1, 0.01, -1, -1)"
   ],
   "outputs": [],
   "execution_count": null
  },
  {
   "cell_type": "code",
   "id": "6cf1cdabb85fd201",
   "metadata": {},
   "source": [
    "\n",
    "#model.train(X, Y, 0.1, 10_000_000)\n",
    "\n",
    "#model.print_classif(1, 1, 0.01, -1, -1)"
   ],
   "outputs": [],
   "execution_count": null
  },
  {
   "cell_type": "markdown",
   "id": "59e2c47d0dc36927",
   "metadata": {},
   "source": [
    "### Multicross :"
   ]
  },
  {
   "cell_type": "code",
   "id": "2f4764654684902b",
   "metadata": {},
   "source": [
    "X = np.random.random((1000, 2)) * 2.0 - 1.0\n",
    "Y = np.array([[1, 0, 0] if abs(p[0] % 0.5) <= 0.25 < abs(p[1] % 0.5) else [0, 1, 0] if abs(\n",
    "    p[0] % 0.5) > 0.25 >= abs(p[1] % 0.5) else [0, 0, 1] for p in X])\n",
    "\n",
    "input_dim = len(X)\n",
    "\n",
    "with MyModel(model_type, input_dim, cluster_size=32, gamma=1.0, is_classification=True) as model :\n",
    "    model.train(X, Y, 0.001, 10000000)\n",
    "    model.print_classification(1, 1, 0.01, -1, -1)"
   ],
   "outputs": [],
   "execution_count": null
  },
  {
   "cell_type": "markdown",
   "id": "1c9cd26985adbe80",
   "metadata": {},
   "source": [
    "# Régression\n",
    "### Linéaire simple 2D"
   ]
  },
  {
   "cell_type": "code",
   "id": "91ad066fc11a0a82",
   "metadata": {},
   "source": [
    "X = np.array([\n",
    "    [1],\n",
    "    [2],\n",
    "    [3],\n",
    "    [4],\n",
    "    [5]\n",
    "])\n",
    "Y = np.array([\n",
    "    2,\n",
    "    3,\n",
    "    4,\n",
    "    5,\n",
    "    6\n",
    "])\n",
    "\n",
    "input_dim = len(X)\n",
    "model = MyModel(model_type, input_dim, cluster_size=3, gamma=0.1, is_classification=False)\n",
    "\n",
    "model.train(X, Y, 0.1, 1_000)\n",
    "print(\"train\")\n",
    "model.print_regression()"
   ],
   "outputs": [],
   "execution_count": null
  },
  {
   "cell_type": "markdown",
   "id": "bd6e462e85736c67",
   "metadata": {},
   "source": [
    "### Non Linéaire Simple :"
   ]
  },
  {
   "cell_type": "code",
   "id": "52e5198f6450ebd9",
   "metadata": {
    "ExecuteTime": {
     "end_time": "2024-07-06T15:20:21.817172Z",
     "start_time": "2024-07-06T15:20:21.630779Z"
    }
   },
   "source": [
    "X = np.array([\n",
    "      [1],\n",
    "      [2],\n",
    "      [3]\n",
    "])\n",
    "Y = np.array([\n",
    "      2,\n",
    "      3,\n",
    "      2.5\n",
    "])\n",
    "\n",
    "model = MyModel(\"rbf\", 2, cluster_size=2, gamma=1.0, is_classification=False)\n",
    "\n",
    "model.train(X, Y, 0.01, 10_000_000)\n",
    "\n",
    "model.print_regression()"
   ],
   "outputs": [
    {
     "name": "stdout",
     "output_type": "stream",
     "text": [
      "Initializing the model...\n"
     ]
    },
    {
     "ename": "ArgumentError",
     "evalue": "argument 1: TypeError: wrong type",
     "output_type": "error",
     "traceback": [
      "\u001B[1;31m---------------------------------------------------------------------------\u001B[0m",
      "\u001B[1;31mArgumentError\u001B[0m                             Traceback (most recent call last)",
      "Cell \u001B[1;32mIn[6], line 12\u001B[0m\n\u001B[0;32m      1\u001B[0m X \u001B[38;5;241m=\u001B[39m np\u001B[38;5;241m.\u001B[39marray([\n\u001B[0;32m      2\u001B[0m       [\u001B[38;5;241m1\u001B[39m],\n\u001B[0;32m      3\u001B[0m       [\u001B[38;5;241m2\u001B[39m],\n\u001B[0;32m      4\u001B[0m       [\u001B[38;5;241m3\u001B[39m]\n\u001B[0;32m      5\u001B[0m ])\n\u001B[0;32m      6\u001B[0m Y \u001B[38;5;241m=\u001B[39m np\u001B[38;5;241m.\u001B[39marray([\n\u001B[0;32m      7\u001B[0m       \u001B[38;5;241m2\u001B[39m,\n\u001B[0;32m      8\u001B[0m       \u001B[38;5;241m3\u001B[39m,\n\u001B[0;32m      9\u001B[0m       \u001B[38;5;241m2.5\u001B[39m\n\u001B[0;32m     10\u001B[0m ])\n\u001B[1;32m---> 12\u001B[0m model \u001B[38;5;241m=\u001B[39m \u001B[43mMyModel\u001B[49m\u001B[43m(\u001B[49m\u001B[43mmodel_type\u001B[49m\u001B[43m,\u001B[49m\u001B[43m \u001B[49m\u001B[43m(\u001B[49m\u001B[38;5;241;43m1\u001B[39;49m\u001B[43m,\u001B[49m\u001B[38;5;241;43m2\u001B[39;49m\u001B[43m,\u001B[49m\u001B[38;5;241;43m1\u001B[39;49m\u001B[43m)\u001B[49m\u001B[43m)\u001B[49m\n\u001B[0;32m     14\u001B[0m model\u001B[38;5;241m.\u001B[39mtrain(X, Y, \u001B[38;5;241m0.01\u001B[39m, \u001B[38;5;241m10_000_000\u001B[39m)\n\u001B[0;32m     16\u001B[0m model\u001B[38;5;241m.\u001B[39mprint_regression()\n",
      "File \u001B[1;32m~\\OneDrive\\Online Sessions\\3iabd1\\projet annuel\\3BigData\\interoperability\\python_interlop\\wrapper\\my_lib.py:36\u001B[0m, in \u001B[0;36mMyModel.__init__\u001B[1;34m(self, model_type, size, is_classification, is_3_classes, cluster_size, gamma)\u001B[0m\n\u001B[0;32m     33\u001B[0m \u001B[38;5;28mprint\u001B[39m(\u001B[38;5;124m\"\u001B[39m\u001B[38;5;124mInitializing the model...\u001B[39m\u001B[38;5;124m\"\u001B[39m)\n\u001B[0;32m     35\u001B[0m \u001B[38;5;28;01mif\u001B[39;00m \u001B[38;5;129;01mnot\u001B[39;00m \u001B[38;5;28mself\u001B[39m\u001B[38;5;241m.\u001B[39m__is_3_classes \u001B[38;5;129;01mor\u001B[39;00m \u001B[38;5;28mself\u001B[39m\u001B[38;5;241m.\u001B[39m__type \u001B[38;5;241m!=\u001B[39m \u001B[38;5;124m\"\u001B[39m\u001B[38;5;124mml\u001B[39m\u001B[38;5;124m\"\u001B[39m:\n\u001B[1;32m---> 36\u001B[0m     \u001B[38;5;28mself\u001B[39m\u001B[38;5;241m.\u001B[39mmodel \u001B[38;5;241m=\u001B[39m \u001B[38;5;28;43mself\u001B[39;49m\u001B[38;5;241;43m.\u001B[39;49m\u001B[43m_init_model\u001B[49m\u001B[43m(\u001B[49m\u001B[43m)\u001B[49m\n\u001B[0;32m     37\u001B[0m \u001B[38;5;28;01melse\u001B[39;00m:\n\u001B[0;32m     38\u001B[0m     \u001B[38;5;66;03m# Initialise les modèles linéaires en tant que regression pour pouvoir\u001B[39;00m\n\u001B[0;32m     39\u001B[0m     \u001B[38;5;66;03m# comparer les résultat de chaque One vs Rest\u001B[39;00m\n\u001B[0;32m     40\u001B[0m     \u001B[38;5;28mself\u001B[39m\u001B[38;5;241m.\u001B[39m__is_classification \u001B[38;5;241m=\u001B[39m \u001B[38;5;28;01mFalse\u001B[39;00m\n",
      "File \u001B[1;32m~\\OneDrive\\Online Sessions\\3iabd1\\projet annuel\\3BigData\\interoperability\\python_interlop\\wrapper\\my_lib.py:55\u001B[0m, in \u001B[0;36mMyModel._init_model\u001B[1;34m(self)\u001B[0m\n\u001B[0;32m     53\u001B[0m     \u001B[38;5;28;01mreturn\u001B[39;00m my_lib\u001B[38;5;241m.\u001B[39minit_mlp(raw_size, \u001B[38;5;28mlen\u001B[39m(\u001B[38;5;28mself\u001B[39m\u001B[38;5;241m.\u001B[39m__dims), \u001B[38;5;28mself\u001B[39m\u001B[38;5;241m.\u001B[39m__is_classification)\n\u001B[0;32m     54\u001B[0m \u001B[38;5;28;01melif\u001B[39;00m \u001B[38;5;28mself\u001B[39m\u001B[38;5;241m.\u001B[39m__type \u001B[38;5;241m==\u001B[39m \u001B[38;5;124m\"\u001B[39m\u001B[38;5;124mrbf\u001B[39m\u001B[38;5;124m\"\u001B[39m:\n\u001B[1;32m---> 55\u001B[0m     \u001B[38;5;28;01mreturn\u001B[39;00m \u001B[43mmy_lib\u001B[49m\u001B[38;5;241;43m.\u001B[39;49m\u001B[43minit_rbf\u001B[49m\u001B[43m(\u001B[49m\u001B[38;5;28;43mself\u001B[39;49m\u001B[38;5;241;43m.\u001B[39;49m\u001B[43m__dims\u001B[49m\u001B[43m,\u001B[49m\u001B[43m \u001B[49m\u001B[38;5;28;43mself\u001B[39;49m\u001B[38;5;241;43m.\u001B[39;49m\u001B[43m__cluster_size\u001B[49m\u001B[43m,\u001B[49m\u001B[43m \u001B[49m\u001B[38;5;28;43mself\u001B[39;49m\u001B[38;5;241;43m.\u001B[39;49m\u001B[43m__gamma\u001B[49m\u001B[43m)\u001B[49m\n",
      "\u001B[1;31mArgumentError\u001B[0m: argument 1: TypeError: wrong type"
     ]
    }
   ],
   "execution_count": 6
  },
  {
   "cell_type": "markdown",
   "id": "7cb5ae6ba3233de3",
   "metadata": {},
   "source": [
    "### Linéaire simple 3D"
   ]
  },
  {
   "cell_type": "code",
   "id": "aa27f36731679119",
   "metadata": {},
   "source": [
    "X = np.array([\n",
    "      [1, 1],\n",
    "      [2, 2],\n",
    "      [3, 3]\n",
    "])\n",
    "Y = np.array([\n",
    "      1,\n",
    "      2,\n",
    "      3\n",
    "])\n",
    "\n",
    "model = MyModel(model_type, (2,1))\n",
    "\n",
    "model.train(X, Y, 0.1, 1_000)\n",
    "\n",
    "model.print_regression()"
   ],
   "outputs": [],
   "execution_count": null
  },
  {
   "cell_type": "markdown",
   "id": "fbc7b7ffe6e8844d",
   "metadata": {},
   "source": [
    "### Linéaire tricky 3D"
   ]
  },
  {
   "cell_type": "code",
   "id": "3e3e3c574bbd019f",
   "metadata": {},
   "source": [
    "X = np.array([\n",
    "      [1, 1],\n",
    "      [2, 2],\n",
    "      [3, 3]\n",
    "])\n",
    "Y = np.array([\n",
    "      1,\n",
    "      2,\n",
    "      3\n",
    "])\n",
    "\n",
    "model = MyModel(model_type, (2,1))\n",
    "\n",
    "model.train(X, Y, 0.1, 1_000)\n",
    "\n",
    "model.print_regression()"
   ],
   "outputs": [],
   "execution_count": null
  },
  {
   "cell_type": "markdown",
   "id": "8d71e2b9eabc9f9e",
   "metadata": {},
   "source": [
    "### Non linéaire simple 3D"
   ]
  },
  {
   "cell_type": "code",
   "id": "3855eb4dfe97f7bb",
   "metadata": {},
   "source": [
    "X = np.array([\n",
    "      [1, 0],\n",
    "      [0, 1],\n",
    "      [1, 1],\n",
    "      [0, 0],\n",
    "])\n",
    "Y = np.array([\n",
    "      2,\n",
    "      1,\n",
    "      -2,\n",
    "      -1\n",
    "])\n",
    "\n",
    "model = MyModel(model_type, (2,2,1))\n",
    "\n",
    "model.train(X, Y, 0.1, 1_000)\n",
    "\n",
    "model.print_regression()"
   ],
   "outputs": [],
   "execution_count": null
  }
 ],
 "metadata": {
  "kernelspec": {
   "display_name": "Python 3 (ipykernel)",
   "language": "python",
   "name": "python3"
  },
  "language_info": {
   "codemirror_mode": {
    "name": "ipython",
    "version": 3
   },
   "file_extension": ".py",
   "mimetype": "text/x-python",
   "name": "python",
   "nbconvert_exporter": "python",
   "pygments_lexer": "ipython3",
   "version": "3.12.1"
  }
 },
 "nbformat": 4,
 "nbformat_minor": 5
}
