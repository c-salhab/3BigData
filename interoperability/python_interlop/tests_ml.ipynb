{
 "cells": [
  {
   "cell_type": "markdown",
   "id": "31daa3c7741f5453",
   "metadata": {},
   "source": [
    "# Modèle Linéaire : Classification\n",
    "\n",
    "### Importation de la lib :"
   ]
  },
  {
   "cell_type": "code",
   "id": "initial_id",
   "metadata": {
    "ExecuteTime": {
     "end_time": "2024-07-24T10:58:47.882380Z",
     "start_time": "2024-07-24T10:58:47.174858Z"
    }
   },
   "source": [
    "from interoperability.python_interlop.wrapper.my_lib import MyModel\n",
    "import numpy as np\n",
    "\n",
    "model_type = \"ml\""
   ],
   "outputs": [],
   "execution_count": 1
  },
  {
   "cell_type": "markdown",
   "id": "8533447cc997aaff",
   "metadata": {},
   "source": [
    "### Linear simple :"
   ]
  },
  {
   "cell_type": "code",
   "id": "96a7919859ce5dfa",
   "metadata": {
    "ExecuteTime": {
     "end_time": "2024-07-24T10:58:48.435395Z",
     "start_time": "2024-07-24T10:58:47.883297Z"
    }
   },
   "source": [
    "X = np.array([\n",
    "    [1, 1],\n",
    "    [2, 3],\n",
    "    [3, 3]\n",
    "])\n",
    "Y = np.array([\n",
    "    1,\n",
    "    -1,\n",
    "    -1\n",
    "])\n",
    "\n",
    "with MyModel(model_type, 2, is_classification=True) as model:\n",
    "    model.train(X, Y, 0.01, 1000_000)\n",
    "    model.print_classification(4, 4, 0.05)\n"
   ],
   "outputs": [
    {
     "name": "stdout",
     "output_type": "stream",
     "text": [
      "Initializing the model...\n",
      "Deleting last model...\n"
     ]
    },
    {
     "ename": "TypeError",
     "evalue": "object of type 'float' has no len()",
     "output_type": "error",
     "traceback": [
      "\u001B[1;31m---------------------------------------------------------------------------\u001B[0m",
      "\u001B[1;31mTypeError\u001B[0m                                 Traceback (most recent call last)",
      "Cell \u001B[1;32mIn[2], line 13\u001B[0m\n\u001B[0;32m      6\u001B[0m Y \u001B[38;5;241m=\u001B[39m np\u001B[38;5;241m.\u001B[39marray([\n\u001B[0;32m      7\u001B[0m     \u001B[38;5;241m1\u001B[39m,\n\u001B[0;32m      8\u001B[0m     \u001B[38;5;241m-\u001B[39m\u001B[38;5;241m1\u001B[39m,\n\u001B[0;32m      9\u001B[0m     \u001B[38;5;241m-\u001B[39m\u001B[38;5;241m1\u001B[39m\n\u001B[0;32m     10\u001B[0m ])\n\u001B[0;32m     12\u001B[0m \u001B[38;5;28;01mwith\u001B[39;00m MyModel(model_type, \u001B[38;5;241m2\u001B[39m, is_classification\u001B[38;5;241m=\u001B[39m\u001B[38;5;28;01mTrue\u001B[39;00m) \u001B[38;5;28;01mas\u001B[39;00m model:\n\u001B[1;32m---> 13\u001B[0m     \u001B[43mmodel\u001B[49m\u001B[38;5;241;43m.\u001B[39;49m\u001B[43mtrain\u001B[49m\u001B[43m(\u001B[49m\u001B[43mX\u001B[49m\u001B[43m,\u001B[49m\u001B[43m \u001B[49m\u001B[43mY\u001B[49m\u001B[43m,\u001B[49m\u001B[43m \u001B[49m\u001B[38;5;241;43m0.01\u001B[39;49m\u001B[43m,\u001B[49m\u001B[43m \u001B[49m\u001B[38;5;241;43m1000_000\u001B[39;49m\u001B[43m)\u001B[49m\n\u001B[0;32m     14\u001B[0m     model\u001B[38;5;241m.\u001B[39mprint_classification(\u001B[38;5;241m4\u001B[39m, \u001B[38;5;241m4\u001B[39m, \u001B[38;5;241m0.05\u001B[39m)\n",
      "File \u001B[1;32m~\\RustroverProjects\\3BigData\\interoperability\\python_interlop\\wrapper\\my_lib.py:86\u001B[0m, in \u001B[0;36mMyModel.train\u001B[1;34m(self, x_train, y_train, x_test, y_test, learning_rate, epochs, log_filename, model_filename, display_loss, display_tensorboard, save_model, sample_count, epsilon)\u001B[0m\n\u001B[0;32m     83\u001B[0m     x_test \u001B[38;5;241m=\u001B[39m x_train\n\u001B[0;32m     84\u001B[0m     y_test \u001B[38;5;241m=\u001B[39m y_train\n\u001B[1;32m---> 86\u001B[0m \u001B[38;5;28;01mif\u001B[39;00m \u001B[38;5;28;43mlen\u001B[39;49m\u001B[43m(\u001B[49m\u001B[43mx_test\u001B[49m\u001B[43m)\u001B[49m \u001B[38;5;241m!=\u001B[39m \u001B[38;5;28mlen\u001B[39m(y_test):\n\u001B[0;32m     87\u001B[0m     \u001B[38;5;28;01mraise\u001B[39;00m \u001B[38;5;167;01mValueError\u001B[39;00m(\u001B[38;5;124m\"\u001B[39m\u001B[38;5;124mx_test and y_test must have same length\u001B[39m\u001B[38;5;124m\"\u001B[39m)\n\u001B[0;32m     89\u001B[0m \u001B[38;5;28mprint\u001B[39m(\u001B[38;5;124m\"\u001B[39m\u001B[38;5;124mTraining the model...\u001B[39m\u001B[38;5;124m\"\u001B[39m)\n",
      "\u001B[1;31mTypeError\u001B[0m: object of type 'float' has no len()"
     ]
    }
   ],
   "execution_count": 2
  },
  {
   "cell_type": "markdown",
   "id": "d2775a1c1ff3b860",
   "metadata": {},
   "source": [
    "### Linear Multiple :"
   ]
  },
  {
   "cell_type": "code",
   "id": "ea81c014f1bd6518",
   "metadata": {},
   "source": [
    "X = np.concatenate(\n",
    "    [np.random.random((50, 2)) * 0.9 + np.array([1, 1]), np.random.random((50, 2)) * 0.9 + np.array([2, 2])])\n",
    "Y = np.concatenate([np.ones((50, 1)), np.ones((50, 1)) * -1.0])\n",
    "\n",
    "with MyModel(model_type, 2, is_classification=True) as model:\n",
    "    model.train(X, Y, 0.01, 10_000)\n",
    "    model.print_classification(4, 4, 0.01)"
   ],
   "outputs": [],
   "execution_count": null
  },
  {
   "cell_type": "markdown",
   "id": "8c32966f4fd55b94",
   "metadata": {},
   "source": [
    "### XOR :"
   ]
  },
  {
   "cell_type": "code",
   "id": "ad094533aa8fbf11",
   "metadata": {},
   "source": [
    "X = np.array([[1, 0], [0, 1], [0, 0], [1, 1]])\n",
    "Y = np.array([1, 1, -1, -1])\n",
    "\n",
    "with MyModel(model_type, 2, is_classification=True) as model :\n",
    "    model.train(X, Y, 0.1, 1_000)\n",
    "    model.print_classification(1, 1, 0.01)"
   ],
   "outputs": [],
   "execution_count": null
  },
  {
   "cell_type": "markdown",
   "id": "97f1514f76c28b96",
   "metadata": {},
   "source": [
    "### Cross"
   ]
  },
  {
   "cell_type": "code",
   "id": "389fe034acfab396",
   "metadata": {},
   "source": [
    "X = np.random.random((500, 2)) * 2.0 - 1.0\n",
    "Y = np.array([1 if abs(p[0]) <= 0.3 or abs(p[1]) <= 0.3 else -1 for p in X])\n",
    "\n",
    "with MyModel(model_type, 2, is_classification=True) as model:\n",
    "    model.train(X, Y, 0.1, 1_000)\n",
    "    model.print_classification(1, 1, 0.01, -1, -1)"
   ],
   "outputs": [],
   "execution_count": null
  },
  {
   "cell_type": "markdown",
   "id": "5fecb3e9024c7f15",
   "metadata": {},
   "source": [
    "### Multi linear 3 classes"
   ]
  },
  {
   "cell_type": "code",
   "id": "de6a1614ad9d24ba",
   "metadata": {},
   "source": [
    "X = np.random.random((500, 2)) * 2.0 - 1.0\n",
    "Y = np.array([[1, 0, 0] if -p[0] - p[1] - 0.5 > 0 > p[1] and p[0] - p[1] - 0.5 < 0 else\n",
    "              [0, 1, 0] if -p[0] - p[1] - 0.5 < 0 < p[1] and p[0] - p[1] - 0.5 < 0 else\n",
    "              [0, 0, 1] if -p[0] - p[1] - 0.5 < 0 < p[0] - p[1] - 0.5 and p[1] < 0 else\n",
    "              [0, 0, 0] for p in X])\n",
    "\n",
    "X = X[[not np.all(arr == [0, 0, 0]) for arr in Y]]\n",
    "Y = Y[[not np.all(arr == [0, 0, 0]) for arr in Y]]\n",
    "\n",
    "with MyModel(model_type, 2, is_classification=True, is_3_classes=True) as model :\n",
    "    model.train(X, Y, 0.01, 10_000)\n",
    "    model.print_classification(1, 1, 0.01, -1, -1)"
   ],
   "outputs": [],
   "execution_count": null
  },
  {
   "cell_type": "markdown",
   "id": "59e2c47d0dc36927",
   "metadata": {},
   "source": [
    "### Multicross :"
   ]
  },
  {
   "cell_type": "code",
   "id": "2f4764654684902b",
   "metadata": {},
   "source": [
    "X = np.random.random((1000, 2)) * 2.0 - 1.0\n",
    "Y = np.array([[1, 0, 0] if abs(p[0] % 0.5) <= 0.25 < abs(p[1] % 0.5) else [0, 1, 0] if abs(\n",
    "    p[0] % 0.5) > 0.25 >= abs(p[1] % 0.5) else [0, 0, 1] for p in X])\n",
    "\n",
    "with MyModel(model_type, 2, is_classification=True, is_3_classes=True) as model :\n",
    "    model.train(X, Y, 0.01, 1_000)\n",
    "    model.print_classification(1, 1, 0.01, -1, -1)"
   ],
   "outputs": [],
   "execution_count": null
  },
  {
   "cell_type": "markdown",
   "id": "1c9cd26985adbe80",
   "metadata": {},
   "source": [
    "# Régression\n",
    "### Linéaire simple 2D"
   ]
  },
  {
   "cell_type": "code",
   "id": "91ad066fc11a0a82",
   "metadata": {},
   "source": [
    "X = np.array([\n",
    "    [1],\n",
    "    [2]\n",
    "])\n",
    "Y = np.array([\n",
    "    2,\n",
    "    3\n",
    "])\n",
    "\n",
    "with MyModel(model_type, 1) as model:\n",
    "    model.train(X, Y, 0.01, 1_000)\n",
    "    model.print_regression()"
   ],
   "outputs": [],
   "execution_count": null
  },
  {
   "cell_type": "markdown",
   "id": "bd6e462e85736c67",
   "metadata": {},
   "source": [
    "### Non Linéaire Simple :"
   ]
  },
  {
   "cell_type": "code",
   "id": "52e5198f6450ebd9",
   "metadata": {},
   "source": [
    "X = np.array([\n",
    "      [1],\n",
    "      [2],\n",
    "      [3]\n",
    "])\n",
    "Y = np.array([\n",
    "      2,\n",
    "      3,\n",
    "      2.5\n",
    "])\n",
    "\n",
    "with MyModel(model_type, 1) as model :\n",
    "    model.train(X, Y, 0.01, 1_0)\n",
    "    model.print_regression()"
   ],
   "outputs": [],
   "execution_count": null
  },
  {
   "cell_type": "markdown",
   "id": "7cb5ae6ba3233de3",
   "metadata": {},
   "source": [
    "### Linéaire simple 3D"
   ]
  },
  {
   "cell_type": "code",
   "id": "aa27f36731679119",
   "metadata": {},
   "source": [
    "X = np.array([\n",
    "      [1, 1],\n",
    "      [2, 2],\n",
    "      [3, 3]\n",
    "])\n",
    "Y = np.array([\n",
    "      1,\n",
    "      2,\n",
    "      3\n",
    "])\n",
    "\n",
    "with MyModel(model_type, 2) as model:\n",
    "    model.train(X, Y, 0.01, 1_000_000)\n",
    "    model.print_regression_3d()"
   ],
   "outputs": [],
   "execution_count": null
  },
  {
   "cell_type": "markdown",
   "id": "fbc7b7ffe6e8844d",
   "metadata": {},
   "source": [
    "### Linéaire tricky 3D"
   ]
  },
  {
   "cell_type": "code",
   "id": "3e3e3c574bbd019f",
   "metadata": {},
   "source": [
    "X = np.array([\n",
    "      [1, 1],\n",
    "      [2, 2],\n",
    "      [3, 3]\n",
    "])\n",
    "Y = np.array([\n",
    "      1,\n",
    "      2,\n",
    "      3\n",
    "])\n",
    "\n",
    "with MyModel(model_type, 2) as model:\n",
    "    model.train(X, Y, 0.1, 1_000)\n",
    "    model.print_regression_3d()"
   ],
   "outputs": [],
   "execution_count": null
  },
  {
   "cell_type": "markdown",
   "id": "8d71e2b9eabc9f9e",
   "metadata": {},
   "source": [
    "### Non linéaire simple 3D"
   ]
  },
  {
   "cell_type": "code",
   "id": "3855eb4dfe97f7bb",
   "metadata": {},
   "source": [
    "X = np.array([\n",
    "      [1, 0],\n",
    "      [0, 1],\n",
    "      [1, 1],\n",
    "      [0, 0],\n",
    "])\n",
    "Y = np.array([\n",
    "      2,\n",
    "      1,\n",
    "      -2,\n",
    "      -1\n",
    "])\n",
    "\n",
    "with MyModel(model_type, 2) as model:\n",
    "    model.train(X, Y, 0.1, 1_000)\n",
    "    model.print_regression_3d()"
   ],
   "outputs": [],
   "execution_count": null
  },
  {
   "cell_type": "code",
   "id": "10f47e49-4c48-4325-b1cf-228c9b6587ac",
   "metadata": {},
   "source": [],
   "outputs": [],
   "execution_count": null
  }
 ],
 "metadata": {
  "kernelspec": {
   "display_name": "Python 3 (ipykernel)",
   "language": "python",
   "name": "python3"
  },
  "language_info": {
   "codemirror_mode": {
    "name": "ipython",
    "version": 3
   },
   "file_extension": ".py",
   "mimetype": "text/x-python",
   "name": "python",
   "nbconvert_exporter": "python",
   "pygments_lexer": "ipython3",
   "version": "3.10.14"
  }
 },
 "nbformat": 4,
 "nbformat_minor": 5
}
