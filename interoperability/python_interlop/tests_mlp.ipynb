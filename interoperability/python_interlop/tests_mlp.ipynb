{
 "cells": [
  {
   "metadata": {},
   "cell_type": "markdown",
   "source": [
    "# Modèle Perceptron Multi-Couche : Classification\n",
    "\n",
    "### Importation de la lib :"
   ],
   "id": "b49d498ca53d199a"
  },
  {
   "metadata": {
    "ExecuteTime": {
     "end_time": "2024-07-19T09:14:15.367791Z",
     "start_time": "2024-07-19T09:14:14.771040Z"
    }
   },
   "cell_type": "code",
   "source": [
    "from interoperability.python_interlop.wrapper.my_lib import MyModel\n",
    "import numpy as np\n",
    "\n",
    "model_type = \"mlp\""
   ],
   "id": "69088088afbbf6b4",
   "outputs": [],
   "execution_count": 1
  },
  {
   "metadata": {},
   "cell_type": "markdown",
   "source": "### Linear simple :",
   "id": "5765a0bf348f0593"
  },
  {
   "metadata": {
    "jupyter": {
     "is_executing": true
    },
    "ExecuteTime": {
     "start_time": "2024-07-19T09:14:17.190212Z"
    }
   },
   "cell_type": "code",
   "source": [
    "X_TRAIN = np.array([\n",
    "    [1, 1],\n",
    "    [2, 3],\n",
    "    [3, 3]\n",
    "])\n",
    "Y_TRAIN = np.array([\n",
    "    1,\n",
    "    -1,\n",
    "    -1\n",
    "])\n",
    "\n",
    "with MyModel(model_type, (2, 1), is_classification=True) as model:\n",
    "    model.train(X_TRAIN, Y_TRAIN, x_test=X_TRAIN, y_test=Y_TRAIN, \n",
    "            learning_rate=0.01, epochs=50_000, \n",
    "            log_filename=\"model.json\", model_filename=\"charbel.json\")\n",
    "    model.print_classification(4, 4, 0.05)"
   ],
   "id": "3751a2553e78dd6c",
   "outputs": [
    {
     "name": "stdout",
     "output_type": "stream",
     "text": [
      "Initializing the model...\n",
      "Training the model...\n",
      "begin training the mlp\n",
      "finish training the mlp\n"
     ]
    }
   ],
   "execution_count": null
  },
  {
   "metadata": {},
   "cell_type": "markdown",
   "source": "### Linear Multiple :",
   "id": "75052c98eeb0f7c5"
  },
  {
   "metadata": {
    "ExecuteTime": {
     "end_time": "2024-07-19T08:30:06.888420Z",
     "start_time": "2024-07-19T08:30:06.825913Z"
    }
   },
   "cell_type": "code",
   "source": [
    "X = np.concatenate(\n",
    "    [np.random.random((50, 2)) * 0.9 + np.array([1, 1]), np.random.random((50, 2)) * 0.9 + np.array([2, 2])])\n",
    "Y = np.concatenate([np.ones((50, 1)), np.ones((50, 1)) * -1.0])\n",
    "\n",
    "with MyModel(model_type, (2, 1), is_classification=True) as model:\n",
    "    model.train(X, Y, 0.01, 10_000)\n",
    "    model.print_classification(4, 4, 0.01)"
   ],
   "id": "53890c5fe2a133ba",
   "outputs": [
    {
     "name": "stdout",
     "output_type": "stream",
     "text": [
      "Initializing the model...\n",
      "Deleting last model...\n"
     ]
    },
    {
     "ename": "TypeError",
     "evalue": "object of type 'float' has no len()",
     "output_type": "error",
     "traceback": [
      "\u001B[1;31m---------------------------------------------------------------------------\u001B[0m",
      "\u001B[1;31mTypeError\u001B[0m                                 Traceback (most recent call last)",
      "Cell \u001B[1;32mIn[11], line 6\u001B[0m\n\u001B[0;32m      3\u001B[0m Y \u001B[38;5;241m=\u001B[39m np\u001B[38;5;241m.\u001B[39mconcatenate([np\u001B[38;5;241m.\u001B[39mones((\u001B[38;5;241m50\u001B[39m, \u001B[38;5;241m1\u001B[39m)), np\u001B[38;5;241m.\u001B[39mones((\u001B[38;5;241m50\u001B[39m, \u001B[38;5;241m1\u001B[39m)) \u001B[38;5;241m*\u001B[39m \u001B[38;5;241m-\u001B[39m\u001B[38;5;241m1.0\u001B[39m])\n\u001B[0;32m      5\u001B[0m \u001B[38;5;28;01mwith\u001B[39;00m MyModel(model_type, (\u001B[38;5;241m2\u001B[39m, \u001B[38;5;241m1\u001B[39m), is_classification\u001B[38;5;241m=\u001B[39m\u001B[38;5;28;01mTrue\u001B[39;00m) \u001B[38;5;28;01mas\u001B[39;00m model:\n\u001B[1;32m----> 6\u001B[0m     \u001B[43mmodel\u001B[49m\u001B[38;5;241;43m.\u001B[39;49m\u001B[43mtrain\u001B[49m\u001B[43m(\u001B[49m\u001B[43mX\u001B[49m\u001B[43m,\u001B[49m\u001B[43m \u001B[49m\u001B[43mY\u001B[49m\u001B[43m,\u001B[49m\u001B[43m \u001B[49m\u001B[38;5;241;43m0.01\u001B[39;49m\u001B[43m,\u001B[49m\u001B[43m \u001B[49m\u001B[38;5;241;43m10_000\u001B[39;49m\u001B[43m)\u001B[49m\n\u001B[0;32m      7\u001B[0m     model\u001B[38;5;241m.\u001B[39mprint_classification(\u001B[38;5;241m4\u001B[39m, \u001B[38;5;241m4\u001B[39m, \u001B[38;5;241m0.01\u001B[39m)\n",
      "File \u001B[1;32m~\\OneDrive\\Online Sessions\\3iabd1\\projet annuel\\3BigData\\interoperability\\python_interlop\\wrapper\\my_lib.py:75\u001B[0m, in \u001B[0;36mMyModel.train\u001B[1;34m(self, x_train, y_train, x_test, y_test, learning_rate, epochs, log_filename)\u001B[0m\n\u001B[0;32m     72\u001B[0m     x_test \u001B[38;5;241m=\u001B[39m x_train\n\u001B[0;32m     73\u001B[0m     y_test \u001B[38;5;241m=\u001B[39m y_train\n\u001B[1;32m---> 75\u001B[0m \u001B[38;5;28;01mif\u001B[39;00m \u001B[38;5;28;43mlen\u001B[39;49m\u001B[43m(\u001B[49m\u001B[43mx_test\u001B[49m\u001B[43m)\u001B[49m \u001B[38;5;241m!=\u001B[39m \u001B[38;5;28mlen\u001B[39m(y_test):\n\u001B[0;32m     76\u001B[0m     \u001B[38;5;28;01mraise\u001B[39;00m \u001B[38;5;167;01mValueError\u001B[39;00m(\u001B[38;5;124m\"\u001B[39m\u001B[38;5;124mx_test and y_test must have same length\u001B[39m\u001B[38;5;124m\"\u001B[39m)\n\u001B[0;32m     78\u001B[0m \u001B[38;5;28mprint\u001B[39m(\u001B[38;5;124m\"\u001B[39m\u001B[38;5;124mTraining the model...\u001B[39m\u001B[38;5;124m\"\u001B[39m)\n",
      "\u001B[1;31mTypeError\u001B[0m: object of type 'float' has no len()"
     ]
    }
   ],
   "execution_count": 11
  },
  {
   "metadata": {},
   "cell_type": "markdown",
   "source": "### XOR :",
   "id": "c159ae21f2f28ba1"
  },
  {
   "metadata": {},
   "cell_type": "code",
   "outputs": [],
   "execution_count": null,
   "source": [
    "model_type = \"mlp\"\n",
    "\n",
    "X = np.array([[1, 0], [0, 1], [0, 0], [1, 1]])\n",
    "Y = np.array([1, 1, -1, -1])\n",
    "\n",
    "with MyModel(model_type, (2,2,1), is_classification=True) as model:\n",
    "    model.train(X, Y, 0.01, 500000000)\n",
    "    model.print_classification(1.2, 1.2, 0.01, -0.2, -0.2)"
   ],
   "id": "29893113912b7eb4"
  },
  {
   "metadata": {},
   "cell_type": "markdown",
   "source": "### Cross",
   "id": "a0dcc172521002de"
  },
  {
   "metadata": {},
   "cell_type": "code",
   "outputs": [],
   "execution_count": null,
   "source": [
    "X = np.random.random((500, 2)) * 2.0 - 1.0\n",
    "Y = np.array([1 if abs(p[0]) <= 0.3 or abs(p[1]) <= 0.3 else -1 for p in X])\n",
    "\n",
    "#model = MyModel(model_type, (2,4,1), is_classification=True)\n",
    "\n",
    "#model.train(X, Y, 0.1, 1_000)\n",
    "\n",
    "#model.print_classification(1, 1, 0.01, -1, -1)"
   ],
   "id": "c7f726e0ba067a48"
  },
  {
   "metadata": {},
   "cell_type": "markdown",
   "source": "### Multi linear 3 classes",
   "id": "53c22aa0cdca2227"
  },
  {
   "metadata": {},
   "cell_type": "code",
   "outputs": [],
   "execution_count": null,
   "source": [
    "#X = np.random.random((500, 2)) * 2.0 - 1.0\n",
    "#Y = np.array([[1, 0, 0] if -p[0] - p[1] - 0.5 > 0 > p[1] and p[0] - p[1] - 0.5 < 0 else\n",
    " #             [0, 1, 0] if -p[0] - p[1] - 0.5 < 0 < p[1] and p[0] - p[1] - 0.5 < 0 else\n",
    "  #            [0, 0, 1] if -p[0] - p[1] - 0.5 < 0 < p[0] - p[1] - 0.5 and p[1] < 0 else\n",
    "   #           [0, 0, 0] for p in X])\n",
    "\n",
    "#X = X[[not np.all(arr == [0, 0, 0]) for arr in Y]]\n",
    "#Y = Y[[not np.all(arr == [0, 0, 0]) for arr in Y]]\n",
    "\n",
    "#model = MyModel(model_type, 2, is_classification=True, is_3_classes=True)"
   ],
   "id": "18b140db89ba469e"
  },
  {
   "metadata": {},
   "cell_type": "code",
   "outputs": [],
   "execution_count": null,
   "source": [
    "\n",
    "#model.train(X, Y, 0.1, 10_000_000)\n",
    "\n",
    "#model.print_classification(1, 1, 0.01, -1, -1)"
   ],
   "id": "3539b0c109724ad3"
  },
  {
   "metadata": {},
   "cell_type": "markdown",
   "source": "### Multicross :",
   "id": "8d6b4b96c12b9149"
  },
  {
   "metadata": {},
   "cell_type": "code",
   "outputs": [],
   "execution_count": null,
   "source": [
    "#X = np.random.random((1000, 2)) * 2.0 - 1.0\n",
    "#Y = np.array([[1, 0, 0] if abs(p[0] % 0.5) <= 0.25 < abs(p[1] % 0.5) else [0, 1, 0] if abs(\n",
    " #   p[0] % 0.5) > 0.25 >= abs(p[1] % 0.5) else [0, 0, 1] for p in X])\n",
    "\n",
    "#model = MyModel(model_type, 2, is_classification=True, is_3_classes=True)\n",
    "\n",
    "#model.train(X, Y, 0.001, 1_000)\n",
    "\n",
    "#model.print_classification(1, 1, 0.1, -1, -1)"
   ],
   "id": "b14789a62f9c2ef8"
  },
  {
   "cell_type": "markdown",
   "id": "1c9cd26985adbe80",
   "metadata": {},
   "source": [
    "# Régression\n",
    "### Linéaire simple 2D"
   ]
  },
  {
   "cell_type": "code",
   "id": "91ad066fc11a0a82",
   "metadata": {},
   "source": [
    "X = np.array([\n",
    "    [1],\n",
    "    [2]\n",
    "])\n",
    "Y = np.array([\n",
    "    2,\n",
    "    3\n",
    "])\n",
    "\n",
    "model = MyModel(model_type, (1,1))\n",
    "print(\"ini\")\n",
    "model.train(X, Y, 0.1, 1_000)\n",
    "print(\"train\")\n",
    "model.print_regression()"
   ],
   "outputs": [],
   "execution_count": null
  },
  {
   "cell_type": "markdown",
   "id": "bd6e462e85736c67",
   "metadata": {},
   "source": [
    "### Non Linéaire Simple :"
   ]
  },
  {
   "cell_type": "code",
   "id": "52e5198f6450ebd9",
   "metadata": {},
   "source": [
    "X = np.array([\n",
    "      [1],\n",
    "      [2],\n",
    "      [3]\n",
    "])\n",
    "Y = np.array([\n",
    "      2,\n",
    "      3,\n",
    "      2.5\n",
    "])\n",
    "\n",
    "model = MyModel(model_type, (1,2,1))\n",
    "\n",
    "model.train(X, Y, 0.01, 10_000_000)\n",
    "\n",
    "model.print_regression()"
   ],
   "outputs": [],
   "execution_count": null
  },
  {
   "cell_type": "markdown",
   "id": "7cb5ae6ba3233de3",
   "metadata": {},
   "source": [
    "### Linéaire simple 3D"
   ]
  },
  {
   "cell_type": "code",
   "id": "aa27f36731679119",
   "metadata": {},
   "source": [
    "X = np.array([\n",
    "      [1, 1],\n",
    "      [2, 2],\n",
    "      [3, 3]\n",
    "])\n",
    "Y = np.array([\n",
    "      1,\n",
    "      2,\n",
    "      3\n",
    "])\n",
    "\n",
    "model = MyModel(model_type, (2,1))\n",
    "\n",
    "model.train(X, Y, 0.1, 1_000)\n",
    "\n",
    "model.print_regression()"
   ],
   "outputs": [],
   "execution_count": null
  },
  {
   "cell_type": "markdown",
   "id": "fbc7b7ffe6e8844d",
   "metadata": {},
   "source": [
    "### Linéaire tricky 3D"
   ]
  },
  {
   "cell_type": "code",
   "id": "3e3e3c574bbd019f",
   "metadata": {},
   "source": [
    "X = np.array([\n",
    "      [1, 1],\n",
    "      [2, 2],\n",
    "      [3, 3]\n",
    "])\n",
    "Y = np.array([\n",
    "      1,\n",
    "      2,\n",
    "      3\n",
    "])\n",
    "\n",
    "model = MyModel(model_type, (2,1))\n",
    "\n",
    "model.train(X, Y, 0.1, 1_000)\n",
    "\n",
    "model.print_regression()"
   ],
   "outputs": [],
   "execution_count": null
  },
  {
   "cell_type": "markdown",
   "id": "8d71e2b9eabc9f9e",
   "metadata": {},
   "source": [
    "### Non linéaire simple 3D"
   ]
  },
  {
   "cell_type": "code",
   "id": "3855eb4dfe97f7bb",
   "metadata": {},
   "source": [
    "X = np.array([\n",
    "      [1, 0],\n",
    "      [0, 1],\n",
    "      [1, 1],\n",
    "      [0, 0],\n",
    "])\n",
    "Y = np.array([\n",
    "      2,\n",
    "      1,\n",
    "      -2,\n",
    "      -1\n",
    "])\n",
    "\n",
    "model = MyModel(model_type, (2,2,1))\n",
    "\n",
    "model.train(X, Y, 0.1, 1_000)\n",
    "\n",
    "model.print_regression()"
   ],
   "outputs": [],
   "execution_count": null
  }
 ],
 "metadata": {
  "kernelspec": {
   "display_name": "Python 3 (ipykernel)",
   "language": "python",
   "name": "python3"
  },
  "language_info": {
   "codemirror_mode": {
    "name": "ipython",
    "version": 3
   },
   "file_extension": ".py",
   "mimetype": "text/x-python",
   "name": "python",
   "nbconvert_exporter": "python",
   "pygments_lexer": "ipython3",
   "version": "3.12.1"
  }
 },
 "nbformat": 4,
 "nbformat_minor": 5
}
