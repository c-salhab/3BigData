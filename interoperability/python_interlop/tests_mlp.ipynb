{
 "cells": [
  {
   "cell_type": "markdown",
   "id": "31daa3c7741f5453",
   "metadata": {},
   "source": [
    "# Modèle Perceptron Multi-Couche : Classification\n",
    "\n",
    "### Importation de la lib :"
   ]
  },
  {
   "cell_type": "code",
   "id": "initial_id",
   "metadata": {
    "ExecuteTime": {
     "end_time": "2024-07-16T09:29:28.224962Z",
     "start_time": "2024-07-16T09:29:26.652039Z"
    }
   },
   "source": [
    "from interoperability.python_interlop.wrapper.my_lib import MyModel\n",
    "import numpy as np\n",
    "\n",
    "model_type = \"mlp\""
   ],
   "outputs": [],
   "execution_count": 1
  },
  {
   "cell_type": "markdown",
   "id": "8533447cc997aaff",
   "metadata": {},
   "source": [
    "### Linear simple :"
   ]
  },
  {
   "cell_type": "markdown",
   "id": "d2775a1c1ff3b860",
   "metadata": {},
   "source": [
    "### Linear Multiple :"
   ]
  },
  {
   "cell_type": "code",
   "id": "ea81c014f1bd6518",
   "metadata": {
    "ExecuteTime": {
     "end_time": "2024-07-16T09:29:35.060649Z",
     "start_time": "2024-07-16T09:29:32.749201Z"
    }
   },
   "source": [
    "X = np.concatenate(\n",
    "    [np.random.random((50, 2)) * 0.9 + np.array([1, 1]), np.random.random((50, 2)) * 0.9 + np.array([2, 2])])\n",
    "Y = np.concatenate([np.ones((50, 1)), np.ones((50, 1)) * -1.0])\n",
    "\n",
    "with MyModel(model_type, (2, 1), is_classification=True) as model:\n",
    "    model.train(X, Y, 0.01, 10_000)\n",
    "    model.print_classification(4, 4, 0.01)"
   ],
   "outputs": [
    {
     "name": "stdout",
     "output_type": "stream",
     "text": [
      "Initializing the model...\n",
      "Training the model...\n",
      "Training failed due to exception: access violation reading 0x000000003C23D70A\n",
      "Deleting last model...\n"
     ]
    },
    {
     "ename": "OSError",
     "evalue": "exception: access violation reading 0x000000003C23D70A",
     "output_type": "error",
     "traceback": [
      "\u001B[1;31m---------------------------------------------------------------------------\u001B[0m",
      "\u001B[1;31mOSError\u001B[0m                                   Traceback (most recent call last)",
      "Cell \u001B[1;32mIn[2], line 6\u001B[0m\n\u001B[0;32m      3\u001B[0m Y \u001B[38;5;241m=\u001B[39m np\u001B[38;5;241m.\u001B[39mconcatenate([np\u001B[38;5;241m.\u001B[39mones((\u001B[38;5;241m50\u001B[39m, \u001B[38;5;241m1\u001B[39m)), np\u001B[38;5;241m.\u001B[39mones((\u001B[38;5;241m50\u001B[39m, \u001B[38;5;241m1\u001B[39m)) \u001B[38;5;241m*\u001B[39m \u001B[38;5;241m-\u001B[39m\u001B[38;5;241m1.0\u001B[39m])\n\u001B[0;32m      5\u001B[0m \u001B[38;5;28;01mwith\u001B[39;00m MyModel(model_type, (\u001B[38;5;241m2\u001B[39m, \u001B[38;5;241m1\u001B[39m), is_classification\u001B[38;5;241m=\u001B[39m\u001B[38;5;28;01mTrue\u001B[39;00m) \u001B[38;5;28;01mas\u001B[39;00m model:\n\u001B[1;32m----> 6\u001B[0m     \u001B[43mmodel\u001B[49m\u001B[38;5;241;43m.\u001B[39;49m\u001B[43mtrain\u001B[49m\u001B[43m(\u001B[49m\u001B[43mX\u001B[49m\u001B[43m,\u001B[49m\u001B[43m \u001B[49m\u001B[43mY\u001B[49m\u001B[43m,\u001B[49m\u001B[43m \u001B[49m\u001B[38;5;241;43m0.01\u001B[39;49m\u001B[43m,\u001B[49m\u001B[43m \u001B[49m\u001B[38;5;241;43m10_000\u001B[39;49m\u001B[43m)\u001B[49m\n\u001B[0;32m      7\u001B[0m     model\u001B[38;5;241m.\u001B[39mprint_classification(\u001B[38;5;241m4\u001B[39m, \u001B[38;5;241m4\u001B[39m, \u001B[38;5;241m0.01\u001B[39m)\n",
      "File \u001B[1;32m~\\OneDrive\\Online Sessions\\3iabd1\\projet annuel\\3BigData\\interoperability\\python_interlop\\wrapper\\my_lib.py:84\u001B[0m, in \u001B[0;36mMyModel.train\u001B[1;34m(self, x, y, learning_rate, epochs)\u001B[0m\n\u001B[0;32m     82\u001B[0m \u001B[38;5;28;01mif\u001B[39;00m \u001B[38;5;129;01mnot\u001B[39;00m \u001B[38;5;28mself\u001B[39m\u001B[38;5;241m.\u001B[39m__is_3_classes \u001B[38;5;129;01mor\u001B[39;00m \u001B[38;5;28mself\u001B[39m\u001B[38;5;241m.\u001B[39m__type \u001B[38;5;241m!=\u001B[39m \u001B[38;5;124m\"\u001B[39m\u001B[38;5;124mml\u001B[39m\u001B[38;5;124m\"\u001B[39m:\n\u001B[0;32m     83\u001B[0m     y_flat_ptr \u001B[38;5;241m=\u001B[39m y\u001B[38;5;241m.\u001B[39mflatten()\u001B[38;5;241m.\u001B[39mastype(ctypes\u001B[38;5;241m.\u001B[39mc_float)\u001B[38;5;241m.\u001B[39mctypes\u001B[38;5;241m.\u001B[39mdata_as(ctypes\u001B[38;5;241m.\u001B[39mPOINTER(ctypes\u001B[38;5;241m.\u001B[39mc_float))\n\u001B[1;32m---> 84\u001B[0m     \u001B[38;5;28;43mself\u001B[39;49m\u001B[38;5;241;43m.\u001B[39;49m\u001B[43m_train_model\u001B[49m\u001B[43m(\u001B[49m\u001B[43mx_flat_ptr\u001B[49m\u001B[43m,\u001B[49m\u001B[43m \u001B[49m\u001B[43my_flat_ptr\u001B[49m\u001B[43m,\u001B[49m\u001B[43m \u001B[49m\u001B[43mdata_size\u001B[49m\u001B[43m,\u001B[49m\u001B[43m \u001B[49m\u001B[43msample_count\u001B[49m\u001B[43m,\u001B[49m\u001B[43m \u001B[49m\u001B[43mlearning_rate\u001B[49m\u001B[43m,\u001B[49m\u001B[43m \u001B[49m\u001B[43mepochs\u001B[49m\u001B[43m)\u001B[49m\n\u001B[0;32m     85\u001B[0m \u001B[38;5;28;01melse\u001B[39;00m:\n\u001B[0;32m     86\u001B[0m     y \u001B[38;5;241m=\u001B[39m np\u001B[38;5;241m.\u001B[39mtranspose(y)\n",
      "File \u001B[1;32m~\\OneDrive\\Online Sessions\\3iabd1\\projet annuel\\3BigData\\interoperability\\python_interlop\\wrapper\\my_lib.py:102\u001B[0m, in \u001B[0;36mMyModel._train_model\u001B[1;34m(self, x_flat_ptr, y_flat_ptr, data_size, sample_count, learning_rate, epochs, index)\u001B[0m\n\u001B[0;32m     99\u001B[0m     my_lib\u001B[38;5;241m.\u001B[39mtrain_linear_model(\u001B[38;5;28mself\u001B[39m\u001B[38;5;241m.\u001B[39mmodel \u001B[38;5;28;01mif\u001B[39;00m index \u001B[38;5;129;01mis\u001B[39;00m \u001B[38;5;28;01mNone\u001B[39;00m \u001B[38;5;28;01melse\u001B[39;00m \u001B[38;5;28mself\u001B[39m\u001B[38;5;241m.\u001B[39mmodel[index], x_flat_ptr, y_flat_ptr,\n\u001B[0;32m    100\u001B[0m                               data_size, learning_rate, epochs)\n\u001B[0;32m    101\u001B[0m \u001B[38;5;28;01melif\u001B[39;00m \u001B[38;5;28mself\u001B[39m\u001B[38;5;241m.\u001B[39m__type \u001B[38;5;241m==\u001B[39m \u001B[38;5;124m\"\u001B[39m\u001B[38;5;124mmlp\u001B[39m\u001B[38;5;124m\"\u001B[39m:\n\u001B[1;32m--> 102\u001B[0m     \u001B[43mmy_lib\u001B[49m\u001B[38;5;241;43m.\u001B[39;49m\u001B[43mtrain_mlp\u001B[49m\u001B[43m(\u001B[49m\u001B[38;5;28;43mself\u001B[39;49m\u001B[38;5;241;43m.\u001B[39;49m\u001B[43mmodel\u001B[49m\u001B[43m,\u001B[49m\u001B[43m \u001B[49m\u001B[43mx_flat_ptr\u001B[49m\u001B[43m,\u001B[49m\u001B[43m \u001B[49m\u001B[43my_flat_ptr\u001B[49m\u001B[43m,\u001B[49m\u001B[43m \u001B[49m\u001B[43mdata_size\u001B[49m\u001B[43m,\u001B[49m\u001B[43m \u001B[49m\u001B[43mlearning_rate\u001B[49m\u001B[43m,\u001B[49m\u001B[43m \u001B[49m\u001B[43mepochs\u001B[49m\u001B[43m)\u001B[49m\n\u001B[0;32m    103\u001B[0m \u001B[38;5;28;01melif\u001B[39;00m \u001B[38;5;28mself\u001B[39m\u001B[38;5;241m.\u001B[39m__type \u001B[38;5;241m==\u001B[39m \u001B[38;5;124m\"\u001B[39m\u001B[38;5;124mrbf\u001B[39m\u001B[38;5;124m\"\u001B[39m:\n\u001B[0;32m    104\u001B[0m     \u001B[38;5;28;01mif\u001B[39;00m \u001B[38;5;28mself\u001B[39m\u001B[38;5;241m.\u001B[39m__is_classification:\n",
      "\u001B[1;31mOSError\u001B[0m: exception: access violation reading 0x000000003C23D70A"
     ]
    }
   ],
   "execution_count": 2
  },
  {
   "cell_type": "markdown",
   "id": "8c32966f4fd55b94",
   "metadata": {},
   "source": [
    "### XOR :"
   ]
  },
  {
   "cell_type": "code",
   "id": "ad094533aa8fbf11",
   "metadata": {},
   "source": [
    "model_type = \"mlp\"\n",
    "\n",
    "X = np.array([[1, 0], [0, 1], [0, 0], [1, 1]])\n",
    "Y = np.array([1, 1, -1, -1])\n",
    "\n",
    "with MyModel(model_type, (2,2,1), is_classification=True) as model:\n",
    "    model.train(X, Y, 0.01, 500000000)\n",
    "    model.print_classification(1.2, 1.2, 0.01, -0.2, -0.2)"
   ],
   "outputs": [],
   "execution_count": null
  },
  {
   "cell_type": "markdown",
   "id": "97f1514f76c28b96",
   "metadata": {},
   "source": [
    "### Cross"
   ]
  },
  {
   "cell_type": "code",
   "id": "389fe034acfab396",
   "metadata": {},
   "source": [
    "X = np.random.random((500, 2)) * 2.0 - 1.0\n",
    "Y = np.array([1 if abs(p[0]) <= 0.3 or abs(p[1]) <= 0.3 else -1 for p in X])\n",
    "\n",
    "#model = MyModel(model_type, (2,4,1), is_classification=True)\n",
    "\n",
    "#model.train(X, Y, 0.1, 1_000)\n",
    "\n",
    "#model.print_classification(1, 1, 0.01, -1, -1)"
   ],
   "outputs": [],
   "execution_count": null
  },
  {
   "cell_type": "markdown",
   "id": "5fecb3e9024c7f15",
   "metadata": {},
   "source": [
    "### Multi linear 3 classes"
   ]
  },
  {
   "cell_type": "code",
   "id": "de6a1614ad9d24ba",
   "metadata": {},
   "source": [
    "#X = np.random.random((500, 2)) * 2.0 - 1.0\n",
    "#Y = np.array([[1, 0, 0] if -p[0] - p[1] - 0.5 > 0 > p[1] and p[0] - p[1] - 0.5 < 0 else\n",
    " #             [0, 1, 0] if -p[0] - p[1] - 0.5 < 0 < p[1] and p[0] - p[1] - 0.5 < 0 else\n",
    "  #            [0, 0, 1] if -p[0] - p[1] - 0.5 < 0 < p[0] - p[1] - 0.5 and p[1] < 0 else\n",
    "   #           [0, 0, 0] for p in X])\n",
    "\n",
    "#X = X[[not np.all(arr == [0, 0, 0]) for arr in Y]]\n",
    "#Y = Y[[not np.all(arr == [0, 0, 0]) for arr in Y]]\n",
    "\n",
    "#model = MyModel(model_type, 2, is_classification=True, is_3_classes=True)"
   ],
   "outputs": [],
   "execution_count": null
  },
  {
   "cell_type": "code",
   "id": "6cf1cdabb85fd201",
   "metadata": {},
   "source": [
    "\n",
    "#model.train(X, Y, 0.1, 10_000_000)\n",
    "\n",
    "#model.print_classification(1, 1, 0.01, -1, -1)"
   ],
   "outputs": [],
   "execution_count": null
  },
  {
   "cell_type": "markdown",
   "id": "59e2c47d0dc36927",
   "metadata": {},
   "source": [
    "### Multicross :"
   ]
  },
  {
   "cell_type": "code",
   "id": "2f4764654684902b",
   "metadata": {},
   "source": [
    "#X = np.random.random((1000, 2)) * 2.0 - 1.0\n",
    "#Y = np.array([[1, 0, 0] if abs(p[0] % 0.5) <= 0.25 < abs(p[1] % 0.5) else [0, 1, 0] if abs(\n",
    " #   p[0] % 0.5) > 0.25 >= abs(p[1] % 0.5) else [0, 0, 1] for p in X])\n",
    "\n",
    "#model = MyModel(model_type, 2, is_classification=True, is_3_classes=True)\n",
    "\n",
    "#model.train(X, Y, 0.001, 1_000)\n",
    "\n",
    "#model.print_classification(1, 1, 0.1, -1, -1)"
   ],
   "outputs": [],
   "execution_count": null
  },
  {
   "cell_type": "markdown",
   "id": "1c9cd26985adbe80",
   "metadata": {},
   "source": [
    "# Régression\n",
    "### Linéaire simple 2D"
   ]
  },
  {
   "cell_type": "code",
   "id": "91ad066fc11a0a82",
   "metadata": {},
   "source": [
    "X = np.array([\n",
    "    [1],\n",
    "    [2]\n",
    "])\n",
    "Y = np.array([\n",
    "    2,\n",
    "    3\n",
    "])\n",
    "\n",
    "model = MyModel(model_type, (1,1))\n",
    "print(\"ini\")\n",
    "model.train(X, Y, 0.1, 1_000)\n",
    "print(\"train\")\n",
    "model.print_regression()"
   ],
   "outputs": [],
   "execution_count": null
  },
  {
   "cell_type": "markdown",
   "id": "bd6e462e85736c67",
   "metadata": {},
   "source": [
    "### Non Linéaire Simple :"
   ]
  },
  {
   "cell_type": "code",
   "id": "52e5198f6450ebd9",
   "metadata": {},
   "source": [
    "X = np.array([\n",
    "      [1],\n",
    "      [2],\n",
    "      [3]\n",
    "])\n",
    "Y = np.array([\n",
    "      2,\n",
    "      3,\n",
    "      2.5\n",
    "])\n",
    "\n",
    "model = MyModel(model_type, (1,2,1))\n",
    "\n",
    "model.train(X, Y, 0.01, 10_000_000)\n",
    "\n",
    "model.print_regression()"
   ],
   "outputs": [],
   "execution_count": null
  },
  {
   "cell_type": "markdown",
   "id": "7cb5ae6ba3233de3",
   "metadata": {},
   "source": [
    "### Linéaire simple 3D"
   ]
  },
  {
   "cell_type": "code",
   "id": "aa27f36731679119",
   "metadata": {},
   "source": [
    "X = np.array([\n",
    "      [1, 1],\n",
    "      [2, 2],\n",
    "      [3, 3]\n",
    "])\n",
    "Y = np.array([\n",
    "      1,\n",
    "      2,\n",
    "      3\n",
    "])\n",
    "\n",
    "model = MyModel(model_type, (2,1))\n",
    "\n",
    "model.train(X, Y, 0.1, 1_000)\n",
    "\n",
    "model.print_regression()"
   ],
   "outputs": [],
   "execution_count": null
  },
  {
   "cell_type": "markdown",
   "id": "fbc7b7ffe6e8844d",
   "metadata": {},
   "source": [
    "### Linéaire tricky 3D"
   ]
  },
  {
   "cell_type": "code",
   "id": "3e3e3c574bbd019f",
   "metadata": {},
   "source": [
    "X = np.array([\n",
    "      [1, 1],\n",
    "      [2, 2],\n",
    "      [3, 3]\n",
    "])\n",
    "Y = np.array([\n",
    "      1,\n",
    "      2,\n",
    "      3\n",
    "])\n",
    "\n",
    "model = MyModel(model_type, (2,1))\n",
    "\n",
    "model.train(X, Y, 0.1, 1_000)\n",
    "\n",
    "model.print_regression()"
   ],
   "outputs": [],
   "execution_count": null
  },
  {
   "cell_type": "markdown",
   "id": "8d71e2b9eabc9f9e",
   "metadata": {},
   "source": [
    "### Non linéaire simple 3D"
   ]
  },
  {
   "cell_type": "code",
   "id": "3855eb4dfe97f7bb",
   "metadata": {},
   "source": [
    "X = np.array([\n",
    "      [1, 0],\n",
    "      [0, 1],\n",
    "      [1, 1],\n",
    "      [0, 0],\n",
    "])\n",
    "Y = np.array([\n",
    "      2,\n",
    "      1,\n",
    "      -2,\n",
    "      -1\n",
    "])\n",
    "\n",
    "model = MyModel(model_type, (2,2,1))\n",
    "\n",
    "model.train(X, Y, 0.1, 1_000)\n",
    "\n",
    "model.print_regression()"
   ],
   "outputs": [],
   "execution_count": null
  }
 ],
 "metadata": {
  "kernelspec": {
   "display_name": "Python 3 (ipykernel)",
   "language": "python",
   "name": "python3"
  },
  "language_info": {
   "codemirror_mode": {
    "name": "ipython",
    "version": 3
   },
   "file_extension": ".py",
   "mimetype": "text/x-python",
   "name": "python",
   "nbconvert_exporter": "python",
   "pygments_lexer": "ipython3",
   "version": "3.12.1"
  }
 },
 "nbformat": 4,
 "nbformat_minor": 5
}
