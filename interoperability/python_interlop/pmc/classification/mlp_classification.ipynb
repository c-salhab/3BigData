{
 "cells": [
  {
   "cell_type": "code",
   "id": "initial_id",
   "metadata": {
    "collapsed": true,
    "ExecuteTime": {
     "end_time": "2024-05-20T14:40:28.236558Z",
     "start_time": "2024-05-20T14:40:27.795861Z"
    }
   },
   "source": [
    "import matplotlib.pyplot as plt\n",
    "import numpy as np\n",
    "import ctypes as ctypes\n",
    "\n",
    "lib_path = \"./../../../../mylib/target/debug/mylib.dll\"\n",
    "my_lib = ctypes.cdll.LoadLibrary(lib_path)\n",
    "\n",
    "## -------------------------- init mlp --------------------------\n",
    "# pub extern \"C\" fn init_mlp(npl: *mut u32, npl_size: u32) -> *mut MultiLayerPerceptron \n",
    "my_lib.init_mlp.argtypes = [ctypes.POINTER(ctypes.c_uint32), ctypes.c_uint32]\n",
    "my_lib.init_mlp.restype = ctypes.c_void_p\n",
    "\n",
    "# pub extern \"C\" fn train_mlp( model: *mut MultiLayerPerceptron, inputs: *mut c_float, outputs: *mut c_float, row: u32, alpha: c_float, nb_iteration: u32, is_classification: bool)\n",
    "my_lib.train_mlp.argtypes = [ctypes.c_void_p, ctypes.POINTER(ctypes.c_float), ctypes.POINTER(ctypes.c_float), ctypes.c_uint32, ctypes.c_float, ctypes.c_uint32, ctypes.c_bool]\n",
    "my_lib.train_mlp.restype = None\n",
    "\n",
    "# pub extern \"C\" fn predict_mlp(model: *mut MultiLayerPerceptron,sample_inputs: *mut f32,sample_inputs_size: usize,is_classification: bool,) -> *mut f32\n",
    "my_lib.predict_mlp.argtypes = [ctypes.c_void_p, ctypes.POINTER(ctypes.c_float), ctypes.c_uint32, ctypes.c_bool]\n",
    "my_lib.predict_mlp.restype = ctypes.POINTER(ctypes.c_float)\n",
    "\n",
    "# pub extern \"C\" fn free_mlp(model: *mut MultiLayerPerceptron)\n",
    "my_lib.free_mlp.argtypes = [ctypes.c_void_p]\n",
    "my_lib.free_mlp.restype = None\n",
    "\n",
    "\n"
   ],
   "outputs": [],
   "execution_count": 1
  },
  {
   "metadata": {
    "ExecuteTime": {
     "end_time": "2024-05-20T14:40:29.182492Z",
     "start_time": "2024-05-20T14:40:29.034414Z"
    }
   },
   "cell_type": "code",
   "source": [
    "X = np.array([\n",
    "    [1, 1],\n",
    "    [2, 3],\n",
    "    [3, 3]\n",
    "])\n",
    "Y = np.array([\n",
    "    1,\n",
    "    -1,\n",
    "    -1\n",
    "])\n",
    "\n",
    "X_flat = X.flatten().astype(ctypes.c_float)\n",
    "Y_flat = Y.flatten().astype(ctypes.c_float)\n",
    "X_flat_ptr = X_flat.ctypes.data_as(ctypes.POINTER(ctypes.c_float))\n",
    "Y_flat_ptr = Y_flat.ctypes.data_as(ctypes.POINTER(ctypes.c_float))\n",
    "data_size = len(Y)\n",
    "\n",
    "npl = np.array([2, 1], dtype=ctypes.c_uint32)\n",
    "raw_npl = np.ctypeslib.as_ctypes(npl)\n",
    "mlp_model = my_lib.init_mlp(raw_npl, len(npl))\n",
    "\n",
    "\n",
    "my_lib.train_mlp(mlp_model, X_flat_ptr, Y_flat_ptr, 3, 0.001, 100000, ctypes.c_bool(True))\n",
    "\n"
   ],
   "id": "e8e08b0363a16ec2",
   "outputs": [],
   "execution_count": 2
  },
  {
   "metadata": {
    "ExecuteTime": {
     "end_time": "2024-05-20T14:40:29.982607Z",
     "start_time": "2024-05-20T14:40:29.979455Z"
    }
   },
   "cell_type": "code",
   "source": [
    "background_points = []\n",
    "background_colors = []\n",
    "x1 = 0\n",
    "\n",
    "while x1 < 3:\n",
    "    x2 = 0\n",
    "    while x2 < 3:\n",
    "        background_points.append([x1, x2])\n",
    "        x2 += 0.1\n",
    "    x1 += 0.1\n"
   ],
   "id": "67364f6d623dfa38",
   "outputs": [],
   "execution_count": 3
  },
  {
   "metadata": {
    "ExecuteTime": {
     "start_time": "2024-05-20T14:40:38.911434Z"
    }
   },
   "cell_type": "code",
   "source": [
    "for point in background_points:\n",
    "    points_pointer = np.ctypeslib.as_ctypes(np.array(point, dtype=ctypes.c_float))\n",
    "    prediction = my_lib.predict_mlp(mlp_model, points_pointer, 2, True)[0]\n",
    "    print(prediction)\n",
    "    if prediction > 0:\n",
    "        background_colors.append('lightblue')\n",
    "    else:\n",
    "        background_colors.append('pink')\n",
    "\n",
    "print(background_colors)"
   ],
   "id": "9f0be1976638c147",
   "outputs": [
    {
     "name": "stdout",
     "output_type": "stream",
     "text": [
      "0.9946689009666443\n",
      "0.9930107593536377\n"
     ]
    }
   ],
   "execution_count": null
  },
  {
   "metadata": {
    "ExecuteTime": {
     "end_time": "2024-05-20T14:38:08.737174Z",
     "start_time": "2024-05-20T14:38:08.543004Z"
    }
   },
   "cell_type": "code",
   "source": [
    "background_points = np.array(background_points)\n",
    "plt.scatter(background_points[:, 0], background_points[:, 1], c=background_colors)\n",
    "plt.scatter(X[0, 0], X[0, 1], color='blue')\n",
    "plt.scatter(X[1:3, 0], X[1:3, 1], color='red')\n",
    "\n",
    "plt.plot()\n",
    "plt.show()\n",
    "plt.clf()\n",
    "\n",
    "my_lib.free_mlp(mlp_model)"
   ],
   "id": "7f5cb99aecbd2b55",
   "outputs": [
    {
     "ename": "NameError",
     "evalue": "name 'np' is not defined",
     "output_type": "error",
     "traceback": [
      "\u001B[1;31m---------------------------------------------------------------------------\u001B[0m",
      "\u001B[1;31mNameError\u001B[0m                                 Traceback (most recent call last)",
      "Cell \u001B[1;32mIn[1], line 1\u001B[0m\n\u001B[1;32m----> 1\u001B[0m background_points \u001B[38;5;241m=\u001B[39m \u001B[43mnp\u001B[49m\u001B[38;5;241m.\u001B[39marray(background_points)\n\u001B[0;32m      2\u001B[0m plt\u001B[38;5;241m.\u001B[39mscatter(background_points[:, \u001B[38;5;241m0\u001B[39m], background_points[:, \u001B[38;5;241m1\u001B[39m], c\u001B[38;5;241m=\u001B[39mbackground_colors)\n\u001B[0;32m      3\u001B[0m plt\u001B[38;5;241m.\u001B[39mscatter(X[\u001B[38;5;241m0\u001B[39m, \u001B[38;5;241m0\u001B[39m], X[\u001B[38;5;241m0\u001B[39m, \u001B[38;5;241m1\u001B[39m], color\u001B[38;5;241m=\u001B[39m\u001B[38;5;124m'\u001B[39m\u001B[38;5;124mblue\u001B[39m\u001B[38;5;124m'\u001B[39m)\n",
      "\u001B[1;31mNameError\u001B[0m: name 'np' is not defined"
     ]
    }
   ],
   "execution_count": 1
  },
  {
   "metadata": {},
   "cell_type": "code",
   "outputs": [],
   "execution_count": null,
   "source": "",
   "id": "e98fdd055945adf8"
  }
 ],
 "metadata": {
  "kernelspec": {
   "display_name": "Python 3",
   "language": "python",
   "name": "python3"
  },
  "language_info": {
   "codemirror_mode": {
    "name": "ipython",
    "version": 2
   },
   "file_extension": ".py",
   "mimetype": "text/x-python",
   "name": "python",
   "nbconvert_exporter": "python",
   "pygments_lexer": "ipython2",
   "version": "2.7.6"
  }
 },
 "nbformat": 4,
 "nbformat_minor": 5
}
