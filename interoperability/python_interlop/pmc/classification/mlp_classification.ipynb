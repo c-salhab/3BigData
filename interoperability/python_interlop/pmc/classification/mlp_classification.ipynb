{
 "cells": [
  {
   "cell_type": "code",
   "id": "initial_id",
   "metadata": {
    "collapsed": true,
    "ExecuteTime": {
     "end_time": "2024-05-20T14:57:57.881925Z",
     "start_time": "2024-05-20T14:57:57.451371Z"
    }
   },
   "source": [
    "import matplotlib.pyplot as plt\n",
    "import numpy as np\n",
    "import ctypes as ctypes\n",
    "\n",
    "lib_path = \"./../../../../mylib/target/debug/mylib.dll\"\n",
    "my_lib = ctypes.cdll.LoadLibrary(lib_path)\n",
    "\n",
    "## -------------------------- init mlp --------------------------\n",
    "# pub extern \"C\" fn init_mlp(npl: *mut u32, npl_size: u32) -> *mut MultiLayerPerceptron \n",
    "my_lib.init_mlp.argtypes = [ctypes.POINTER(ctypes.c_uint32), ctypes.c_uint32]\n",
    "my_lib.init_mlp.restype = ctypes.c_void_p\n",
    "\n",
    "# pub extern \"C\" fn train_mlp( model: *mut MultiLayerPerceptron, inputs: *mut c_float, outputs: *mut c_float, row: u32, alpha: c_float, nb_iteration: u32, is_classification: bool)\n",
    "my_lib.train_mlp.argtypes = [ctypes.c_void_p, ctypes.POINTER(ctypes.c_float), ctypes.POINTER(ctypes.c_float), ctypes.c_uint32, ctypes.c_float, ctypes.c_uint32, ctypes.c_bool]\n",
    "my_lib.train_mlp.restype = None\n",
    "\n",
    "# pub extern \"C\" fn predict_mlp(model: *mut MultiLayerPerceptron,sample_inputs: *mut f32,sample_inputs_size: usize,is_classification: bool,) -> *mut f32\n",
    "my_lib.predict_mlp.argtypes = [ctypes.c_void_p, ctypes.POINTER(ctypes.c_float), ctypes.c_uint32, ctypes.c_bool]\n",
    "my_lib.predict_mlp.restype = ctypes.POINTER(ctypes.c_float)\n",
    "\n",
    "# pub extern \"C\" fn free_mlp(model: *mut MultiLayerPerceptron)\n",
    "my_lib.free_mlp.argtypes = [ctypes.c_void_p]\n",
    "my_lib.free_mlp.restype = None\n",
    "\n",
    "\n"
   ],
   "execution_count": 1,
   "outputs": []
  },
  {
   "metadata": {
    "ExecuteTime": {
     "end_time": "2024-05-20T14:57:58.040039Z",
     "start_time": "2024-05-20T14:57:57.882934Z"
    }
   },
   "cell_type": "code",
   "source": [
    "X = np.array([\n",
    "    [1, 1],\n",
    "    [2, 3],\n",
    "    [3, 3]\n",
    "])\n",
    "Y = np.array([\n",
    "    1,\n",
    "    -1,\n",
    "    -1\n",
    "])\n",
    "\n",
    "X_flat = X.flatten().astype(ctypes.c_float)\n",
    "Y_flat = Y.flatten().astype(ctypes.c_float)\n",
    "X_flat_ptr = X_flat.ctypes.data_as(ctypes.POINTER(ctypes.c_float))\n",
    "Y_flat_ptr = Y_flat.ctypes.data_as(ctypes.POINTER(ctypes.c_float))\n",
    "data_size = len(Y)\n",
    "\n",
    "npl = np.array([2, 1], dtype=ctypes.c_uint32)\n",
    "raw_npl = np.ctypeslib.as_ctypes(npl)\n",
    "mlp_model = my_lib.init_mlp(raw_npl, len(npl))\n",
    "\n",
    "\n",
    "my_lib.train_mlp(mlp_model, X_flat_ptr, Y_flat_ptr, 3, 0.001, 100000, ctypes.c_bool(True))\n",
    "\n"
   ],
   "id": "e8e08b0363a16ec2",
   "execution_count": 2,
   "outputs": []
  },
  {
   "metadata": {
    "ExecuteTime": {
     "end_time": "2024-05-20T14:57:58.043936Z",
     "start_time": "2024-05-20T14:57:58.041046Z"
    }
   },
   "cell_type": "code",
   "source": [
    "background_points = []\n",
    "background_colors = []\n",
    "x1 = 0\n",
    "\n",
    "while x1 < 3:\n",
    "    x2 = 0\n",
    "    while x2 < 3:\n",
    "        background_points.append([x1, x2])\n",
    "        x2 += 0.5\n",
    "    x1 += 0.5\n"
   ],
   "id": "67364f6d623dfa38",
   "execution_count": 3,
   "outputs": []
  },
  {
   "metadata": {
    "ExecuteTime": {
     "start_time": "2024-05-20T14:57:58.044943Z"
    }
   },
   "cell_type": "code",
   "source": [
    "print(len(background_points))\n",
    "for point in background_points:\n",
    "    points_pointer = np.ctypeslib.as_ctypes(np.array(point, dtype=ctypes.c_float))\n",
    "    prediction = my_lib.predict_mlp(mlp_model, points_pointer, 2, True)[0]\n",
    "    print(\"ok\")\n",
    "    if prediction > 0:\n",
    "        background_colors.append('lightblue')\n",
    "    else:\n",
    "        background_colors.append('pink')\n",
    "\n",
    "print(background_colors)"
   ],
   "id": "9f0be1976638c147",
   "execution_count": null,
   "outputs": []
  },
  {
   "metadata": {},
   "cell_type": "code",
   "source": [
    "background_points = np.array(background_points)\n",
    "plt.scatter(background_points[:, 0], background_points[:, 1], c=background_colors)\n",
    "plt.scatter(X[0, 0], X[0, 1], color='blue')\n",
    "plt.scatter(X[1:3, 0], X[1:3, 1], color='red')\n",
    "\n",
    "plt.plot()\n",
    "plt.show()\n",
    "plt.clf()\n",
    "\n",
    "my_lib.free_mlp(mlp_model)"
   ],
   "id": "7f5cb99aecbd2b55",
   "execution_count": null,
   "outputs": []
  },
  {
   "metadata": {},
   "cell_type": "code",
   "source": "",
   "id": "e98fdd055945adf8",
   "execution_count": null,
   "outputs": []
  }
 ],
 "metadata": {
  "kernelspec": {
   "display_name": "Python 3",
   "language": "python",
   "name": "python3"
  },
  "language_info": {
   "codemirror_mode": {
    "name": "ipython",
    "version": 2
   },
   "file_extension": ".py",
   "mimetype": "text/x-python",
   "name": "python",
   "nbconvert_exporter": "python",
   "pygments_lexer": "ipython2",
   "version": "2.7.6"
  }
 },
 "nbformat": 4,
 "nbformat_minor": 5
}
