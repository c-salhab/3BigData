{
 "cells": [
  {
   "cell_type": "code",
   "id": "initial_id",
   "metadata": {
    "collapsed": true,
    "ExecuteTime": {
     "end_time": "2024-05-17T17:15:02.125369Z",
     "start_time": "2024-05-17T17:15:01.689263Z"
    }
   },
   "source": [
    "import matplotlib.pyplot as plt\n",
    "import numpy as np\n",
    "import ctypes as ctypes\n",
    "\n",
    "lib_path = \"./../../../../mylib/target/debug/mylib.dll\"\n",
    "my_lib = ctypes.cdll.LoadLibrary(lib_path)\n",
    "\n",
    "## --------------------------init_linear_model--------------------------\n",
    "# pub extern \"C\" fn init_linear_model(input_count: u32) -> *mut LinearModel;\n",
    "my_lib.init_linear_model.argtypes = [ctypes.c_uint32]\n",
    "my_lib.init_linear_model.restype = ctypes.c_void_p\n",
    "\n",
    "# pub extern \"C\" fn train_linear_model(model: *mut LinearModel, features: *const c_float, labels: *const c_float, data_size: u32, learning_rate: f32, epochs: u32)\n",
    "my_lib.train_linear_model.argtypes = [ctypes.c_void_p, ctypes.POINTER(ctypes.c_float), ctypes.POINTER(ctypes.c_float),\n",
    "                                      ctypes.c_uint32, ctypes.c_float, ctypes.c_uint32]\n",
    "my_lib.train_linear_model.restype = None\n",
    "\n",
    "# pub extern \"C\" fn predict_linear_model(model: *mut LinearModel, inputs: *mut f32) -> c_float\n",
    "my_lib.predict_linear_model.argtypes = [ctypes.c_void_p, ctypes.POINTER(ctypes.c_float)]\n",
    "my_lib.predict_linear_model.restype = ctypes.c_float\n",
    "\n",
    "# pub extern \"C\" fn free_linear_model(model: *mut LinearModel)\n",
    "my_lib.free_linear_model.argtypes = [ctypes.c_void_p]\n",
    "my_lib.free_linear_model.restype = None\n",
    "\n",
    "\n"
   ],
   "outputs": [],
   "execution_count": 2
  },
  {
   "metadata": {
    "ExecuteTime": {
     "end_time": "2024-05-17T17:15:02.401639Z",
     "start_time": "2024-05-17T17:15:02.361164Z"
    }
   },
   "cell_type": "code",
   "source": [
    "X = np.array([\n",
    "    [1, 1],\n",
    "    [2, 3],\n",
    "    [3, 3]\n",
    "])\n",
    "Y = np.array([\n",
    "    1,\n",
    "    -1,\n",
    "    -1\n",
    "])\n",
    "\n",
    "X_flat = X.flatten().astype(ctypes.c_float)\n",
    "Y_flat = Y.flatten().astype(ctypes.c_float)\n",
    "X_flat_ptr = X_flat.ctypes.data_as(ctypes.POINTER(ctypes.c_float))\n",
    "Y_flat_ptr = Y_flat.ctypes.data_as(ctypes.POINTER(ctypes.c_float))\n",
    "data_size = len(Y)\n",
    "\n",
    "linear_model = my_lib.init_linear_model(2)\n",
    "my_lib.train_linear_model(linear_model, X_flat_ptr, Y_flat_ptr, data_size, 0.001, 100000)\n",
    "\n"
   ],
   "id": "e8e08b0363a16ec2",
   "outputs": [],
   "execution_count": 3
  },
  {
   "metadata": {
    "ExecuteTime": {
     "end_time": "2024-05-17T17:15:03.210934Z",
     "start_time": "2024-05-17T17:15:03.207656Z"
    }
   },
   "cell_type": "code",
   "source": [
    "background_points = []\n",
    "background_colors = []\n",
    "x1 = 0\n",
    "\n",
    "while x1 < 3:\n",
    "    x2 = 0\n",
    "    while x2 < 3:\n",
    "        background_points.append([x1, x2])\n",
    "        x2 = x2 + 0.1\n",
    "    x1 += x1 + 0.1\n"
   ],
   "id": "67364f6d623dfa38",
   "outputs": [],
   "execution_count": 4
  },
  {
   "metadata": {
    "jupyter": {
     "is_executing": true
    },
    "ExecuteTime": {
     "start_time": "2024-05-17T17:15:04.086129Z"
    }
   },
   "cell_type": "code",
   "source": [
    "for point in background_points:\n",
    "    points_pointer = np.ctypeslib.as_ctypes(np.array(point, dtype=ctypes.c_float))\n",
    "    #weighted_sum = my_lib.predict_linear_model(linear_model, points_pointer)\n",
    "    #print(weighted_sum)\n",
    "    if my_lib.predict_linear_model(linear_model, points_pointer) >= 0:\n",
    "        background_colors.append('lightblue')\n",
    "    else:\n",
    "        background_colors.append('pink')\n",
    "\n",
    "print(background_colors)"
   ],
   "id": "9f0be1976638c147",
   "outputs": [],
   "execution_count": null
  },
  {
   "metadata": {},
   "cell_type": "code",
   "outputs": [],
   "execution_count": null,
   "source": [
    "background_points = np.array(background_points)\n",
    "plt.scatter(background_points[:, 0], background_points[:, 1], c=background_colors)\n",
    "plt.scatter(X[0, 0], X[0, 1], color='blue')\n",
    "plt.scatter(X[1:3, 0], X[1:3, 1], color='red')\n",
    "\n",
    "plt.plot()\n",
    "plt.show()\n",
    "plt.clf()\n",
    "\n",
    "my_lib.free_linear_model(linear_model)"
   ],
   "id": "7f5cb99aecbd2b55"
  }
 ],
 "metadata": {
  "kernelspec": {
   "display_name": "Python 3",
   "language": "python",
   "name": "python3"
  },
  "language_info": {
   "codemirror_mode": {
    "name": "ipython",
    "version": 2
   },
   "file_extension": ".py",
   "mimetype": "text/x-python",
   "name": "python",
   "nbconvert_exporter": "python",
   "pygments_lexer": "ipython2",
   "version": "2.7.6"
  }
 },
 "nbformat": 4,
 "nbformat_minor": 5
}
