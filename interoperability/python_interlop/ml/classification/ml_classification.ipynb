{
 "cells": [
  {
   "metadata": {},
   "cell_type": "markdown",
   "source": [
    "# Modèle Linéaire : Classification\n",
    "\n",
    "### Importation de la lib :"
   ],
   "id": "31daa3c7741f5453"
  },
  {
   "cell_type": "code",
   "id": "initial_id",
   "metadata": {
    "collapsed": true,
    "ExecuteTime": {
     "end_time": "2024-05-22T18:36:21.722052Z",
     "start_time": "2024-05-22T18:36:21.290880Z"
    }
   },
   "source": [
    "import matplotlib.pyplot as plt\n",
    "import numpy as np\n",
    "import ctypes as ctypes\n",
    "\n",
    "lib_path = \"./../../../../mylib/target/release/mylib.dll\"\n",
    "my_lib = ctypes.cdll.LoadLibrary(lib_path)\n",
    "\n",
    "## --------------------------init_linear_model--------------------------\n",
    "# pub extern \"C\" fn init_linear_model(input_count: u32) -> *mut LinearModel;\n",
    "my_lib.init_linear_model.argtypes = [ctypes.c_uint32]\n",
    "my_lib.init_linear_model.restype = ctypes.c_void_p\n",
    "\n",
    "# pub extern \"C\" fn train_linear_model(model: *mut LinearModel, features: *const c_float, labels: *const c_float, data_size: u32, learning_rate: f32, epochs: u32)\n",
    "my_lib.train_linear_model.argtypes = [ctypes.c_void_p, ctypes.POINTER(ctypes.c_float), ctypes.POINTER(ctypes.c_float),\n",
    "                                      ctypes.c_uint32, ctypes.c_float, ctypes.c_uint32]\n",
    "my_lib.train_linear_model.restype = None\n",
    "\n",
    "# pub extern \"C\" fn predict_linear_model(model: *mut LinearModel, inputs: *mut f32) -> c_float\n",
    "my_lib.predict_linear_model.argtypes = [ctypes.c_void_p, ctypes.POINTER(ctypes.c_float)]\n",
    "my_lib.predict_linear_model.restype = ctypes.c_float\n",
    "\n",
    "# pub extern \"C\" fn free_linear_model(model: *mut LinearModel)\n",
    "my_lib.free_linear_model.argtypes = [ctypes.c_void_p]\n",
    "my_lib.free_linear_model.restype = None"
   ],
   "outputs": [],
   "execution_count": 1
  },
  {
   "metadata": {},
   "cell_type": "markdown",
   "source": "## Linear simple :",
   "id": "8533447cc997aaff"
  },
  {
   "metadata": {
    "ExecuteTime": {
     "end_time": "2024-05-22T18:36:21.725800Z",
     "start_time": "2024-05-22T18:36:21.723306Z"
    }
   },
   "cell_type": "code",
   "source": "linear_model = my_lib.init_linear_model(2)",
   "id": "8fa5037b1d7e658c",
   "outputs": [],
   "execution_count": 2
  },
  {
   "metadata": {
    "ExecuteTime": {
     "end_time": "2024-05-22T18:36:21.789858Z",
     "start_time": "2024-05-22T18:36:21.726805Z"
    }
   },
   "cell_type": "code",
   "source": [
    "X = np.array([\n",
    "    [1, 1],\n",
    "    [2, 3],\n",
    "    [3, 3]\n",
    "])\n",
    "Y = np.array([\n",
    "    1,\n",
    "    -1,\n",
    "    -1\n",
    "])\n",
    "\n",
    "X_flat = X.flatten().astype(ctypes.c_float)\n",
    "Y_flat = Y.flatten().astype(ctypes.c_float)\n",
    "X_flat_ptr = X_flat.ctypes.data_as(ctypes.POINTER(ctypes.c_float))\n",
    "Y_flat_ptr = Y_flat.ctypes.data_as(ctypes.POINTER(ctypes.c_float))\n",
    "data_size = len(Y)\n",
    "\n",
    "my_lib.train_linear_model(linear_model, X_flat_ptr, Y_flat_ptr, data_size, 0.01, 1000000)\n",
    "\n",
    "background_points = []\n",
    "background_colors = []"
   ],
   "id": "e8e08b0363a16ec2",
   "outputs": [],
   "execution_count": 3
  },
  {
   "metadata": {
    "ExecuteTime": {
     "end_time": "2024-05-22T18:36:24.300160Z",
     "start_time": "2024-05-22T18:36:21.790866Z"
    }
   },
   "cell_type": "code",
   "source": [
    "x1 = 0\n",
    "while x1 < 4:\n",
    "    x2 = 0\n",
    "    while x2 < 4:\n",
    "        background_points.append([x1, x2])\n",
    "        points_pointer = np.ctypeslib.as_ctypes(np.array([x1, x2], dtype=ctypes.c_float))\n",
    "        if my_lib.predict_linear_model(linear_model, points_pointer) >= 0:\n",
    "            background_colors.append('lightblue')\n",
    "        else:\n",
    "            background_colors.append('pink')\n",
    "        x2 += 0.01\n",
    "    x1 += 0.01\n",
    "\n",
    "background_points = np.array(background_points)\n",
    "plt.scatter(background_points[:, 0], background_points[:, 1], c=background_colors)\n",
    "plt.scatter(X[0, 0], X[0, 1], color='blue')\n",
    "plt.scatter(X[1:3, 0], X[1:3, 1], color='red')\n",
    "\n",
    "plt.show()"
   ],
   "id": "67364f6d623dfa38",
   "outputs": [
    {
     "data": {
      "text/plain": [
       "<Figure size 640x480 with 1 Axes>"
      ],
      "image/png": "[encoded data removed]"
     },
     "metadata": {},
     "output_type": "display_data"
    }
   ],
   "execution_count": 4
  },
  {
   "metadata": {
    "ExecuteTime": {
     "end_time": "2024-05-22T18:36:24.304454Z",
     "start_time": "2024-05-22T18:36:24.301265Z"
    }
   },
   "cell_type": "code",
   "source": "my_lib.free_linear_model(linear_model)",
   "id": "54a446ef642875b8",
   "outputs": [],
   "execution_count": 5
  },
  {
   "metadata": {
    "ExecuteTime": {
     "end_time": "2024-05-22T18:36:24.307286Z",
     "start_time": "2024-05-22T18:36:24.305466Z"
    }
   },
   "cell_type": "code",
   "source": "",
   "id": "de3843d48952ff30",
   "outputs": [],
   "execution_count": 5
  }
 ],
 "metadata": {
  "kernelspec": {
   "display_name": "Python 3",
   "language": "python",
   "name": "python3"
  },
  "language_info": {
   "codemirror_mode": {
    "name": "ipython",
    "version": 2
   },
   "file_extension": ".py",
   "mimetype": "text/x-python",
   "name": "python",
   "nbconvert_exporter": "python",
   "pygments_lexer": "ipython2",
   "version": "2.7.6"
  }
 },
 "nbformat": 4,
 "nbformat_minor": 5
}
