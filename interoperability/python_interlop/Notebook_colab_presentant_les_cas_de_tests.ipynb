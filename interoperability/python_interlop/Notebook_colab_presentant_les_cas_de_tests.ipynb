{
 "cells": [
  {
   "cell_type": "markdown",
   "metadata": {
    "id": "12URBFa0yULK"
   },
   "source": [
    "# Imports"
   ]
  },
  {
   "cell_type": "code",
   "execution_count": 7,
   "metadata": {
    "ExecuteTime": {
     "end_time": "2024-05-15T17:40:23.711831Z",
     "start_time": "2024-05-15T17:40:22.230500Z"
    },
    "id": "sXU99qaCyT8S"
   },
   "source": [
    "import matplotlib.pyplot as plt\n",
    "import numpy as np\n",
    "import ctypes"
   ],
   "outputs": []
  },
  {
   "cell_type": "code",
   "execution_count": 2,
   "metadata": {
    "ExecuteTime": {
     "end_time": "2024-05-15T17:40:28.847079Z",
     "start_time": "2024-05-15T17:40:28.823740Z"
    }
   },
   "source": [
    "lib_path = \"./../../mylib/target/debug/libmylib.so\"\n",
    "my_lib = ctypes.cdll.LoadLibrary(lib_path)\n",
    "\n",
    "## --------------------------init_linear_model--------------------------\n",
    "# pub extern \"C\" fn init_linear_model(input_count: u32) -> *mut LinearModel;\n",
    "my_lib.init_linear_model.argtypes = [ctypes.c_uint32]\n",
    "my_lib.init_linear_model.restypes = None\n",
    "\n",
    "# pub extern \"C\" fn train_linear_model(model: *mut LinearModel, features: *const c_float, labels: *const c_float, data_size: u32, learning_rate: f32, epochs: u32)\n",
    "my_lib.train_linear_model.argtypes = [ctypes.c_void_p, ctypes.POINTER(ctypes.c_float), ctypes.POINTER(ctypes.c_float), ctypes.c_uint32, ctypes.c_float, ctypes.c_uint32]\n",
    "my_lib.train_linear_model.restype = None\n",
    "\n",
    "# pub extern \"C\" fn predict_linear_model(model: *mut LinearModel, inputs: *mut f32) -> c_float\n",
    "my_lib.predict_linear_model.argtypes = [ctypes.c_void_p, ctypes.POINTER(ctypes.c_float)]\n",
    "my_lib.predict_linear_model.restype = ctypes.c_float\n",
    "\n",
    "# pub extern \"C\" fn free_linear_model(model: *mut LinearModel)\n",
    "my_lib.free_linear_model.argtypes = [ctypes.c_void_p]\n",
    "my_lib.free_linear_model.restype = None\n",
    "\n",
    "## -------------------------- init mlp --------------------------\n",
    "# pub extern \"C\" fn init_mlp(npl: *mut u32, npl_size: u32) -> *mut MultiLayerPerceptron \n",
    "my_lib.init_mlp.argtypes = [ctypes.POINTER(ctypes.c_uint32), ctypes.c_uint32]\n",
    "my_lib.init_mlp.restype = ctypes.c_void_p\n",
    "\n",
    "# pub extern \"C\" fn train_mlp( model: *mut MultiLayerPerceptron, inputs: *mut c_float, outputs: *mut c_float, row: u32, alpha: c_float, nb_iteration: u32, is_classification: bool)\n",
    "my_lib.train_mlp.argtypes = [ctypes.c_void_p, ctypes.POINTER(ctypes.c_float), ctypes.POINTER(ctypes.c_float), ctypes.c_uint32, ctypes.c_float, ctypes.c_uint32, ctypes.c_bool]\n",
    "my_lib.train_mlp.restype = None\n",
    "\n",
    "# pub extern \"C\" fn predict_mlp(model: *mut MultiLayerPerceptron,sample_inputs: *mut f32,sample_inputs_size: usize,is_classification: bool,) -> *mut f32\n",
    "my_lib.predict_mlp.argtypes = [ctypes.c_void_p, ctypes.POINTER(ctypes.c_float), ctypes.c_uint32, ctypes.c_bool]\n",
    "my_lib.predict_mlp.restype = ctypes.POINTER(ctypes.c_float)\n",
    "\n",
    "# pub extern \"C\" fn free_mlp(model: *mut MultiLayerPerceptron)\n",
    "my_lib.free_mlp.argtypes = [ctypes.c_void_p]\n",
    "my_lib.free_mlp.restype = None\n"
   ],
   "outputs": []
  },
  {
   "cell_type": "markdown",
   "metadata": {
    "id": "MlaksdgDxaA6"
   },
   "source": [
    "# Cas de tests, rendu 2"
   ]
  },
  {
   "cell_type": "markdown",
   "metadata": {
    "id": "_qYwTgKqxnkl"
   },
   "source": [
    "## Classification"
   ]
  },
  {
   "cell_type": "markdown",
   "metadata": {
    "id": "-d0zULTsyFhh",
    "jp-MarkdownHeadingCollapsed": true
   },
   "source": [
    "### Linear Simple :\n",
    "        Linear Model : OK\n",
    "        MLP (2, 1)   : OK"
   ]
  },
  {
   "cell_type": "code",
   "execution_count": 3,
   "metadata": {},
   "source": [
    "# X = np.array([\n",
    "#     [1.0, 1.0],\n",
    "#     [2.0, 3.0],\n",
    "#     [3.0, 3.0]\n",
    "# ], dtype=np.float32)\n",
    "# Y = np.array([\n",
    "#     1.0,\n",
    "#     -1.0,\n",
    "#     -1.0\n",
    "# ], dtype=np.float32)\n",
    "# plt.scatter(X[0, 0], X[0, 1], color='blue')\n",
    "# plt.scatter(X[1:3,0], X[1:3,1], color='red')\n",
    "# plt.show()\n",
    "# plt.clf()"
   ],
   "outputs": []
  },
  {
   "cell_type": "code",
   "execution_count": 4,
   "metadata": {
    "ExecuteTime": {
     "start_time": "2024-05-15T17:40:38.753970Z"
    },
    "id": "EktwRhEMxV2A",
    "jupyter": {
     "is_executing": true
    }
   },
   "source": [
    "#init linear model\n",
    "\n",
    "X = np.array([\n",
    "    [1.0, 1.0],\n",
    "    [2.0, 3.0],\n",
    "    [3.0, 3.0]\n",
    "], dtype=np.float32)\n",
    "Y = np.array([\n",
    "    1.0,\n",
    "    -1.0,\n",
    "    -1.0\n",
    "], dtype=np.float32)\n",
    "X_flat = X.flatten().astype(ctypes.c_float)\n",
    "Y_flat = Y.flatten().astype(ctypes.c_float)\n",
    "X_flat_ptr = X_flat.ctypes.data_as(ctypes.POINTER(ctypes.c_float))\n",
    "Y_flat_ptr = Y_flat.ctypes.data_as(ctypes.POINTER(ctypes.c_float))\n",
    "data_size = len(Y)\n",
    "\n",
    "linear_model = my_lib.init_linear_model(2)\n",
    "# train linear model\n",
    "my_lib.train_linear_model(linear_model, X_flat_ptr, Y_flat_ptr, data_size, 0.001, 100000)\n",
    "test_input = np.array([1.0, 1.0], dtype=ctypes.c_float)\n",
    "test_input_p = np.ctypeslib.as_ctypes(test_input)\n",
    "prediction = my_lib.predict_linear_model(linear_model, test_input_p)\n",
    "print(prediction)\n",
    "\n",
    "test_input = np.array([2.0, 3.0], dtype=ctypes.c_float)\n",
    "test_input_p = np.ctypeslib.as_ctypes(test_input)\n",
    "prediction = my_lib.predict_linear_model(linear_model, test_input_p)\n",
    "print(prediction)\n",
    "\n",
    "test_input = np.array([3.0, 3.0], dtype=ctypes.c_float)\n",
    "test_input_p = np.ctypeslib.as_ctypes(test_input)\n",
    "prediction = my_lib.predict_linear_model(linear_model, test_input_p)\n",
    "print(prediction)\n",
    "my_lib.free_linear_model(linear_model)\n"
   ],
   "outputs": []
  },
  {
   "cell_type": "code",
   "execution_count": 4,
   "metadata": {},
   "source": [
    "#init mlp\n",
    "X = np.array([\n",
    "    [1.0, 1.0],\n",
    "    [2.0, 3.0],\n",
    "    [3.0, 3.0]\n",
    "], dtype=np.float32)\n",
    "Y = np.array([\n",
    "    1.0,\n",
    "    -1.0,\n",
    "    -1.0\n",
    "], dtype=np.float32)\n",
    "X_flat = X.flatten().astype(ctypes.c_float)\n",
    "Y_flat = Y.flatten().astype(ctypes.c_float)\n",
    "X_flat_ptr = X_flat.ctypes.data_as(ctypes.POINTER(ctypes.c_float))\n",
    "Y_flat_ptr = Y_flat.ctypes.data_as(ctypes.POINTER(ctypes.c_float))\n",
    "\n",
    "npl = np.array([2, 1], dtype=ctypes.c_uint32)\n",
    "raw_npl = np.ctypeslib.as_ctypes(npl)\n",
    "mlp_model = my_lib.init_mlp(raw_npl, len(npl))\n",
    "# Train mlp\n",
    "my_lib.train_mlp(mlp_model, X_flat_ptr, Y_flat_ptr, 3, 0.001, 100000, ctypes.c_bool(True))\n",
    "# predict mlp\n",
    "test_input = np.array([1.0, 1.0], dtype=ctypes.c_float)\n",
    "test_input_p = np.ctypeslib.as_ctypes(test_input)\n",
    "prediction = my_lib.predict_mlp(mlp_model, test_input_p, 2, True)\n",
    "print(prediction[0])\n",
    "\n",
    "\n",
    "test_input = np.array([2.0, 3.0], dtype=ctypes.c_float)\n",
    "test_input_p = np.ctypeslib.as_ctypes(test_input)\n",
    "prediction = my_lib.predict_mlp(mlp_model, test_input_p, 2, True)\n",
    "print(prediction[0])\n",
    "\n",
    "test_input = np.array([3.0, 3.0], dtype=ctypes.c_float)\n",
    "test_input_p = np.ctypeslib.as_ctypes(test_input)\n",
    "prediction = my_lib.predict_mlp(mlp_model, test_input_p, 2, True)\n",
    "print(prediction[0])\n",
    "my_lib.free_mlp(mlp_model)"
   ],
   "outputs": []
  },
  {
   "cell_type": "markdown",
   "metadata": {
    "id": "7v8KFue-zmCv",
    "jp-MarkdownHeadingCollapsed": true
   },
   "source": [
    "### Linear Multiple :\n",
    "        Linear Model : OK\n",
    "        MLP (2, 1)   : OK"
   ]
  },
  {
   "cell_type": "code",
   "execution_count": 8,
   "metadata": {},
   "source": [
    "X = np.concatenate([np.random.random((50,2)) * 0.9 + np.array([1, 1]), np.random.random((50,2)) * 0.9 + np.array([2, 2])])\n",
    "Y = np.concatenate([np.ones((50, 1)), np.ones((50, 1)) * -1.0])\n",
    "plt.scatter(X[0:50, 0], X[0:50, 1], color='blue')\n",
    "plt.scatter(X[50:100,0], X[50:100,1], color='red')\n",
    "plt.show()\n",
    "plt.clf()"
   ],
   "outputs": []
  },
  {
   "cell_type": "code",
   "execution_count": 6,
   "metadata": {
    "id": "hZlnpb-qzmCw"
   },
   "source": [
    "# linear model\n",
    "X = np.concatenate([np.random.random((50,2)) * 0.9 + np.array([1, 1]), np.random.random((50,2)) * 0.9 + np.array([2, 2])])\n",
    "Y = np.concatenate([np.ones((50, 1)), np.ones((50, 1)) * -1.0])\n",
    "X_flat = X.flatten().astype(ctypes.c_float)\n",
    "Y_flat = Y.flatten().astype(ctypes.c_float)\n",
    "X_flat_ptr = X_flat.ctypes.data_as(ctypes.POINTER(ctypes.c_float))\n",
    "Y_flat_ptr = Y_flat.ctypes.data_as(ctypes.POINTER(ctypes.c_float))\n",
    "data_size = len(Y)\n",
    "\n",
    "#init model\n",
    "model = my_lib.init_linear_model(2)\n",
    "# train model\n",
    "my_lib.train_linear_model(model, X_flat_ptr, Y_flat_ptr, data_size, 0.001, 1000)\n",
    "# test predict\n",
    "\n",
    "test_input = np.array([3.0, 3.0], dtype=ctypes.c_float)\n",
    "test_input_p = np.ctypeslib.as_ctypes(test_input)\n",
    "prediction = my_lib.predict_linear_model(model, test_input_p)\n",
    "print(prediction)\n",
    "\n",
    "my_lib.free_linear_model(model)"
   ],
   "outputs": []
  },
  {
   "cell_type": "code",
   "execution_count": 7,
   "metadata": {},
   "source": [
    "# mlp\n",
    "X = np.concatenate([np.random.random((50,2)) * 0.9 + np.array([1, 1]), np.random.random((50,2)) * 0.9 + np.array([2, 2])])\n",
    "Y = np.concatenate([np.ones((50, 1)), np.ones((50, 1)) * -1.0])\n",
    "X_flat = X.flatten().astype(ctypes.c_float)\n",
    "Y_flat = Y.flatten().astype(ctypes.c_float)\n",
    "X_flat_ptr = X_flat.ctypes.data_as(ctypes.POINTER(ctypes.c_float))\n",
    "Y_flat_ptr = Y_flat.ctypes.data_as(ctypes.POINTER(ctypes.c_float))\n",
    "data_size = len(Y)\n",
    "\n",
    "npl = np.array([2, 1], dtype=ctypes.c_uint32)\n",
    "raw_npl = np.ctypeslib.as_ctypes(npl)\n",
    "mlp_model = my_lib.init_mlp(raw_npl, len(npl))\n",
    "# Train mlp\n",
    "my_lib.train_mlp(mlp_model, X_flat_ptr, Y_flat_ptr, data_size, 0.001, 100000, ctypes.c_bool(True))\n",
    "# predict mlp\n",
    "test_input = np.array([3.0, 3.0], dtype=ctypes.c_float)\n",
    "test_input_p = np.ctypeslib.as_ctypes(test_input)\n",
    "prediction = my_lib.predict_mlp(mlp_model, test_input_p, 2, True)\n",
    "print(prediction[0])\n",
    "my_lib.free_mlp(mlp_model)"
   ],
   "outputs": []
  },
  {
   "cell_type": "code",
   "execution_count": 16,
   "metadata": {},
   "source": [],
   "outputs": []
  },
  {
   "cell_type": "markdown",
   "metadata": {
    "id": "gZlONmsp1T_W",
    "jp-MarkdownHeadingCollapsed": true
   },
   "source": [
    "### XOR :\n",
    "        Linear Model    : KO\n",
    "        MLP (2, 2, 1)   : OK"
   ]
  },
  {
   "cell_type": "code",
   "execution_count": null,
   "metadata": {
    "id": "673wfC9U1T_W"
   },
   "source": [
    "# X = np.array([[1, 0], [0, 1], [0, 0], [1, 1]])\n",
    "# Y = np.array([1, 1, -1, -1])\n",
    "# plt.scatter(X[0:2, 0], X[0:2, 1], color='blue')\n",
    "# plt.scatter(X[2:4,0], X[2:4,1], color='red')\n",
    "# plt.show()\n",
    "# plt.clf()"
   ],
   "outputs": []
  },
  {
   "cell_type": "code",
   "execution_count": 8,
   "metadata": {
    "colab": {
     "base_uri": "https://localhost:8080/",
     "height": 283
    },
    "id": "uA3E-h801T_Y",
    "outputId": "9fc31c6d-e44c-447b-a7c0-a3fa7b0d778e"
   },
   "source": [
    "X = np.array([[1, 0], [0, 1], [0, 0], [1, 1]])\n",
    "Y = np.array([1, 1, -1, -1])\n",
    "X_flat = X.flatten().astype(ctypes.c_float)\n",
    "Y_flat = Y.flatten().astype(ctypes.c_float)\n",
    "X_flat_ptr = X_flat.ctypes.data_as(ctypes.POINTER(ctypes.c_float))\n",
    "Y_flat_ptr = Y_flat.ctypes.data_as(ctypes.POINTER(ctypes.c_float))\n",
    "data_size = len(Y)\n",
    "\n",
    "linear_model = my_lib.init_linear_model(2)\n",
    "# train linear model\n",
    "my_lib.train_linear_model(linear_model, X_flat_ptr, Y_flat_ptr, data_size, 0.001, 100000)\n",
    "test_input = np.array([3.0, 3.0], dtype=ctypes.c_float)\n",
    "test_input_p = np.ctypeslib.as_ctypes(test_input)\n",
    "prediction = my_lib.predict_linear_model(linear_model, test_input_p)\n",
    "print(prediction)\n",
    "my_lib.free_linear_model(linear_model)\n"
   ],
   "outputs": []
  },
  {
   "cell_type": "code",
   "execution_count": 9,
   "metadata": {},
   "source": [
    "X = np.array([[1, 0], [0, 1], [0, 0], [1, 1]])\n",
    "Y = np.array([1, 1, -1, -1])\n",
    "X_flat = X.flatten().astype(ctypes.c_float)\n",
    "Y_flat = Y.flatten().astype(ctypes.c_float)\n",
    "X_flat_ptr = X_flat.ctypes.data_as(ctypes.POINTER(ctypes.c_float))\n",
    "Y_flat_ptr = Y_flat.ctypes.data_as(ctypes.POINTER(ctypes.c_float))\n",
    "data_size = len(Y)\n",
    "\n",
    "npl = np.array([2, 2, 1], dtype=ctypes.c_uint32)\n",
    "raw_npl = np.ctypeslib.as_ctypes(npl)\n",
    "mlp_model = my_lib.init_mlp(raw_npl, len(npl))\n",
    "# Train mlp\n",
    "my_lib.train_mlp(mlp_model, X_flat_ptr, Y_flat_ptr, data_size, 0.001, 20000000, ctypes.c_bool(True))\n",
    "# predict mlp\n",
    "test_input = np.array([1.0, 1.0], dtype=ctypes.c_float)\n",
    "test_input_p = np.ctypeslib.as_ctypes(test_input)\n",
    "prediction = my_lib.predict_mlp(mlp_model, test_input_p, 2, True)\n",
    "print(prediction[0])\n",
    "\n",
    "\n",
    "test_input = np.array([1.0, 0.0], dtype=ctypes.c_float)\n",
    "test_input_p = np.ctypeslib.as_ctypes(test_input)\n",
    "prediction = my_lib.predict_mlp(mlp_model, test_input_p, 2, True)\n",
    "print(prediction[0])\n",
    "\n",
    "\n",
    "test_input = np.array([0.0, 1.0], dtype=ctypes.c_float)\n",
    "test_input_p = np.ctypeslib.as_ctypes(test_input)\n",
    "prediction = my_lib.predict_mlp(mlp_model, test_input_p, 2, True)\n",
    "print(prediction[0])\n",
    "\n",
    "\n",
    "test_input = np.array([0.0, 0.0], dtype=ctypes.c_float)\n",
    "test_input_p = np.ctypeslib.as_ctypes(test_input)\n",
    "prediction = my_lib.predict_mlp(mlp_model, test_input_p, 2, True)\n",
    "print(prediction[0])\n",
    "\n",
    "my_lib.free_mlp(mlp_model)"
   ],
   "outputs": []
  },
  {
   "cell_type": "markdown",
   "metadata": {
    "id": "5qxkXVo02MpM",
    "jp-MarkdownHeadingCollapsed": true
   },
   "source": [
    "### Cross :\n",
    "        Linear Model    : KO\n",
    "        MLP (2, 4, 1)   : OK"
   ]
  },
  {
   "cell_type": "code",
   "execution_count": 9,
   "metadata": {
    "id": "7kkrrfnX2MpM"
   },
   "source": [
    "X = np.random.random((500, 2)) * 2.0 - 1.0\n",
    "Y = np.array([1 if abs(p[0]) <= 0.3 or abs(p[1]) <= 0.3 else -1 for p in X])\n",
    "print(\"x\", X)\n",
    "print(\"x\", Y)\n",
    "# plt.scatter(np.array(list(map(lambda elt : elt[1], filter(lambda c: Y[c[0]] == 1, enumerate(X)))))[:,0], np.array(list(map(lambda elt : elt[1], filter(lambda c: Y[c[0]] == 1, enumerate(X)))))[:,1], color='blue')\n",
    "# plt.scatter(np.array(list(map(lambda elt : elt[1], filter(lambda c: Y[c[0]] == -1, enumerate(X)))))[:,0], np.array(list(map(lambda elt : elt[1], filter(lambda c: Y[c[0]] == -1, enumerate(X)))))[:,1], color='red')\n",
    "# plt.show()\n",
    "# plt.clf()"
   ],
   "outputs": []
  },
  {
   "cell_type": "code",
   "execution_count": null,
   "metadata": {
    "colab": {
     "base_uri": "https://localhost:8080/",
     "height": 287
    },
    "id": "zVBAE2fY2MpO",
    "outputId": "46b434a6-2fd8-492e-c080-14b0d0028968"
   },
   "source": [
    "X = np.random.random((500, 2)) * 2.0 - 1.0\n",
    "Y = np.array([1 if abs(p[0]) <= 0.3 or abs(p[1]) <= 0.3 else -1 for p in X])\n",
    "X = np.array([[1, 0], [0, 1], [0, 0], [1, 1]])\n",
    "Y = np.array([1, 1, -1, -1])\n",
    "X_flat = X.flatten().astype(ctypes.c_float)\n",
    "Y_flat = Y.flatten().astype(ctypes.c_float)\n",
    "X_flat_ptr = X_flat.ctypes.data_as(ctypes.POINTER(ctypes.c_float))\n",
    "Y_flat_ptr = Y_flat.ctypes.data_as(ctypes.POINTER(ctypes.c_float))\n",
    "data_size = len(Y)\n",
    "\n",
    "linear_model = my_lib.init_linear_model(2)\n",
    "# train linear model\n",
    "my_lib.train_linear_model(linear_model, X_flat_ptr, Y_flat_ptr, data_size, 0.001, 100000)\n",
    "test_input = np.array([3.0, 3.0], dtype=ctypes.c_float)\n",
    "test_input_p = np.ctypeslib.as_ctypes(test_input)\n",
    "prediction = my_lib.predict_linear_model(linear_model, test_input_p)\n",
    "print(prediction)\n",
    "my_lib.free_linear_model(linear_model)\n"
   ],
   "outputs": []
  },
  {
   "cell_type": "code",
   "execution_count": null,
   "metadata": {},
   "source": [
    "X = np.random.random((500, 2)) * 2.0 - 1.0\n",
    "Y = np.array([1 if abs(p[0]) <= 0.3 or abs(p[1]) <= 0.3 else -1 for p in X])\n",
    "X_flat = X.flatten().astype(ctypes.c_float)\n",
    "Y_flat = Y.flatten().astype(ctypes.c_float)\n",
    "X_flat_ptr = X_flat.ctypes.data_as(ctypes.POINTER(ctypes.c_float))\n",
    "Y_flat_ptr = Y_flat.ctypes.data_as(ctypes.POINTER(ctypes.c_float))\n",
    "data_size = len(Y)\n",
    "\n",
    "npl = np.array([2, 4, 1], dtype=ctypes.c_uint32)\n",
    "raw_npl = np.ctypeslib.as_ctypes(npl)\n",
    "mlp_model = my_lib.init_mlp(raw_npl, len(npl))\n",
    "# Train mlp\n",
    "my_lib.train_mlp(mlp_model, X_flat_ptr, Y_flat_ptr, data_size, 0.001, 20000000, ctypes.c_bool(True))\n",
    "# predict mlp\n",
    "test_input = np.array([1.0, 0.0], dtype=ctypes.c_float)\n",
    "test_input_p = np.ctypeslib.as_ctypes(test_input)\n",
    "prediction = my_lib.predict_mlp(mlp_model, test_input_p, 2, True)\n",
    "print(prediction[0])\n",
    "my_lib.free_mlp(mlp_model)"
   ],
   "outputs": []
  },
  {
   "cell_type": "markdown",
   "metadata": {
    "id": "v4hhnYge928d"
   },
   "source": [
    "### Multi Linear 3 classes :\n",
    "        Linear Model x3 : OK\n",
    "        MLP (2, 3)      : OK"
   ]
  },
  {
   "cell_type": "code",
   "execution_count": 5,
   "metadata": {
    "colab": {
     "base_uri": "https://localhost:8080/"
    },
    "id": "IvhvqkDw928q",
    "outputId": "be06d0ab-dfcb-4469-f009-7cad5672caab"
   },
   "source": [
    "X = np.random.random((500, 2)) * 2.0 - 1.0\n",
    "Y = np.array([[1, 0, 0] if -p[0] - p[1] - 0.5 > 0 and p[1] < 0 and p[0] - p[1] - 0.5 < 0 else\n",
    "              [0, 1, 0] if -p[0] - p[1] - 0.5 < 0 and p[1] > 0 and p[0] - p[1] - 0.5 < 0 else\n",
    "              [0, 0, 1] if -p[0] - p[1] - 0.5 < 0 and p[1] < 0 and p[0] - p[1] - 0.5 > 0 else\n",
    "              [0, 0, 0]for p in X])\n",
    "\n",
    "X = X[[not np.all(arr == [0, 0, 0]) for arr in Y]]\n",
    "Y = Y[[not np.all(arr == [0, 0, 0]) for arr in Y]]\n",
    "print(\"X\", X)\n",
    "print(\"Y\", Y)"
   ],
   "outputs": []
  },
  {
   "cell_type": "code",
   "execution_count": null,
   "metadata": {
    "colab": {
     "base_uri": "https://localhost:8080/",
     "height": 287
    },
    "id": "4aqzcUlJ928s",
    "outputId": "71df307b-e9c9-4a2d-a942-b75e3a141e46"
   },
   "source": [
    "plt.scatter(np.array(list(map(lambda elt : elt[1], filter(lambda c: Y[c[0]][0] == 1, enumerate(X)))))[:,0], np.array(list(map(lambda elt : elt[1], filter(lambda c: Y[c[0]][0] == 1, enumerate(X)))))[:,1], color='blue')\n",
    "plt.scatter(np.array(list(map(lambda elt : elt[1], filter(lambda c: Y[c[0]][1] == 1, enumerate(X)))))[:,0], np.array(list(map(lambda elt : elt[1], filter(lambda c: Y[c[0]][1] == 1, enumerate(X)))))[:,1], color='red')\n",
    "plt.scatter(np.array(list(map(lambda elt : elt[1], filter(lambda c: Y[c[0]][2] == 1, enumerate(X)))))[:,0], np.array(list(map(lambda elt : elt[1], filter(lambda c: Y[c[0]][2] == 1, enumerate(X)))))[:,1], color='green')\n",
    "plt.show()\n",
    "plt.clf()"
   ],
   "outputs": []
  },
  {
   "cell_type": "markdown",
   "metadata": {
    "id": "uKFBx2m066i2"
   },
   "source": [
    "### Multi Cross :\n",
    "        Linear Model x3 : KO\n",
    "        MLP (2, ?, ?, 3): OK"
   ]
  },
  {
   "cell_type": "code",
   "execution_count": 6,
   "metadata": {
    "id": "0ZE8OW-K66i5"
   },
   "source": [
    "X = np.random.random((1000, 2)) * 2.0 - 1.0\n",
    "Y = np.array([[1, 0, 0] if abs(p[0] % 0.5) <= 0.25 and abs(p[1] % 0.5) > 0.25 else [0, 1, 0] if abs(p[0] % 0.5) > 0.25 and abs(p[1] % 0.5) <= 0.25 else [0, 0, 1] for p in X])"
   ],
   "outputs": []
  },
  {
   "cell_type": "code",
   "execution_count": null,
   "metadata": {
    "colab": {
     "base_uri": "https://localhost:8080/",
     "height": 287
    },
    "id": "55U95UMS66i6",
    "outputId": "f14df72f-c2c1-4498-9668-f91f29594b06"
   },
   "source": [
    "plt.scatter(np.array(list(map(lambda elt : elt[1], filter(lambda c: Y[c[0]][0] == 1, enumerate(X)))))[:,0], np.array(list(map(lambda elt : elt[1], filter(lambda c: Y[c[0]][0] == 1, enumerate(X)))))[:,1], color='blue')\n",
    "plt.scatter(np.array(list(map(lambda elt : elt[1], filter(lambda c: Y[c[0]][1] == 1, enumerate(X)))))[:,0], np.array(list(map(lambda elt : elt[1], filter(lambda c: Y[c[0]][1] == 1, enumerate(X)))))[:,1], color='red')\n",
    "plt.scatter(np.array(list(map(lambda elt : elt[1], filter(lambda c: Y[c[0]][2] == 1, enumerate(X)))))[:,0], np.array(list(map(lambda elt : elt[1], filter(lambda c: Y[c[0]][2] == 1, enumerate(X)))))[:,1], color='green')\n",
    "plt.show()\n",
    "plt.clf()"
   ],
   "outputs": []
  },
  {
   "cell_type": "markdown",
   "metadata": {
    "id": "zyrivJMK_WOQ",
    "jp-MarkdownHeadingCollapsed": true
   },
   "source": [
    "## Régression"
   ]
  },
  {
   "cell_type": "markdown",
   "metadata": {
    "id": "p4EB787A_WOR",
    "jp-MarkdownHeadingCollapsed": true
   },
   "source": [
    "### Linear Simple 2D :\n",
    "        Linear Model : OK\n",
    "        MLP (1, 1)   : OK"
   ]
  },
  {
   "cell_type": "code",
   "execution_count": null,
   "metadata": {},
   "source": [],
   "outputs": []
  },
  {
   "cell_type": "code",
   "execution_count": 4,
   "metadata": {
    "id": "dan93I7A_WOR"
   },
   "source": [
    "X = np.array([\n",
    "      [1],\n",
    "      [2]\n",
    "])\n",
    "Y = np.array([\n",
    "      2,\n",
    "      3\n",
    "])"
   ],
   "outputs": []
  },
  {
   "cell_type": "code",
   "execution_count": 5,
   "metadata": {
    "colab": {
     "base_uri": "https://localhost:8080/",
     "height": 287
    },
    "id": "6vHbCksm_sQU",
    "outputId": "1e476e34-d3ef-456a-c46e-62de28756946"
   },
   "source": [
    "# model linear\n",
    "X_flat = X.flatten().astype(ctypes.c_float)\n",
    "Y_flat = Y.flatten().astype(ctypes.c_float)\n",
    "X_flat_ptr = X_flat.ctypes.data_as(ctypes.POINTER(ctypes.c_float))\n",
    "Y_flat_ptr = Y_flat.ctypes.data_as(ctypes.POINTER(ctypes.c_float))\n",
    "data_size = len(Y)\n",
    "\n",
    "#init model\n",
    "model = my_lib.init_linear_model(1)\n",
    "# train model\n",
    "my_lib.train_linear_model(model, X_flat_ptr, Y_flat_ptr, data_size, 0.001, 100000)\n",
    "# test predict\n",
    "\n",
    "test_input = np.array([1.0], dtype=ctypes.c_float)\n",
    "test_input_p = np.ctypeslib.as_ctypes(test_input)\n",
    "prediction = my_lib.predict_linear_model(model, test_input_p)\n",
    "print(prediction)\n",
    "\n",
    "test_input = np.array([2.0], dtype=ctypes.c_float)\n",
    "test_input_p = np.ctypeslib.as_ctypes(test_input)\n",
    "prediction = my_lib.predict_linear_model(model, test_input_p)\n",
    "print(prediction)\n",
    "\n",
    "my_lib.free_linear_model(model)"
   ],
   "outputs": []
  },
  {
   "cell_type": "markdown",
   "metadata": {
    "id": "CkFb79fq_6ci",
    "jp-MarkdownHeadingCollapsed": true
   },
   "source": [
    "### Non Linear Simple 2D :\n",
    "        Linear Model    : OK\n",
    "        MLP (1, ?, 1)   : OK"
   ]
  },
  {
   "cell_type": "code",
   "execution_count": null,
   "metadata": {
    "id": "sZqi1Yy3_6cj"
   },
   "source": [
    "X = np.array([\n",
    "      [1],\n",
    "      [2],\n",
    "      [3]\n",
    "])\n",
    "Y = np.array([\n",
    "      2,\n",
    "      3,\n",
    "      2.5\n",
    "])"
   ],
   "outputs": []
  },
  {
   "cell_type": "code",
   "execution_count": null,
   "metadata": {
    "colab": {
     "base_uri": "https://localhost:8080/",
     "height": 287
    },
    "id": "NSqXDh6c_6ck",
    "outputId": "5e07562b-4b2f-4dc9-b4bd-263ac1b778fd"
   },
   "source": [
    "plt.scatter(X,Y)\n",
    "plt.show()\n",
    "plt.clf()"
   ],
   "outputs": []
  },
  {
   "cell_type": "markdown",
   "metadata": {
    "id": "WT1s5lZxAJuL",
    "jp-MarkdownHeadingCollapsed": true
   },
   "source": [
    "### Linear Simple 3D :\n",
    "        Linear Model    : OK\n",
    "        MLP (2, 1)      : OK"
   ]
  },
  {
   "cell_type": "code",
   "execution_count": null,
   "metadata": {
    "id": "KL_IanGMAJuM"
   },
   "source": [
    "X = np.array([\n",
    "      [1, 1],\n",
    "      [2, 2],\n",
    "      [3, 1]\n",
    "])\n",
    "Y = np.array([\n",
    "      2,\n",
    "      3,\n",
    "      2.5\n",
    "])"
   ],
   "outputs": []
  },
  {
   "cell_type": "code",
   "execution_count": null,
   "metadata": {
    "colab": {
     "base_uri": "https://localhost:8080/",
     "height": 337
    },
    "id": "91dQpMIzAJuO",
    "outputId": "c1681d4c-3b99-429c-fa3f-6b8ef879e0de"
   },
   "source": [
    "from mpl_toolkits.mplot3d import Axes3D\n",
    "fig = plt.figure()\n",
    "ax = Axes3D(fig)\n",
    "ax.scatter(X[:,0],X[:,1],Y)\n",
    "plt.show()\n",
    "plt.clf()"
   ],
   "outputs": []
  },
  {
   "cell_type": "markdown",
   "metadata": {
    "id": "kO361TllBqbm",
    "jp-MarkdownHeadingCollapsed": true
   },
   "source": [
    "### Linear Tricky 3D :\n",
    "        Linear Model    : OK\n",
    "        MLP (2, 1)      : OK"
   ]
  },
  {
   "cell_type": "code",
   "execution_count": null,
   "metadata": {
    "id": "nR_i7qLxBqbm"
   },
   "source": [
    "X = np.array([\n",
    "      [1, 1],\n",
    "      [2, 2],\n",
    "      [3, 3]\n",
    "])\n",
    "Y = np.array([\n",
    "      1,\n",
    "      2,\n",
    "      3\n",
    "])"
   ],
   "outputs": []
  },
  {
   "cell_type": "code",
   "execution_count": null,
   "metadata": {
    "colab": {
     "base_uri": "https://localhost:8080/",
     "height": 337
    },
    "id": "dHriVYrKBqbo",
    "outputId": "681a33c5-8ad5-427a-beea-eaf2a4e268ac"
   },
   "source": [
    "from mpl_toolkits.mplot3d import Axes3D\n",
    "fig = plt.figure()\n",
    "ax = Axes3D(fig)\n",
    "ax.scatter(X[:,0],X[:,1],Y)\n",
    "plt.show()\n",
    "plt.clf()"
   ],
   "outputs": []
  },
  {
   "cell_type": "markdown",
   "metadata": {
    "id": "H_h0_vtCBEzk",
    "jp-MarkdownHeadingCollapsed": true
   },
   "source": [
    "### Non Linear Simple 3D :\n",
    "        Linear Model       : KO\n",
    "        MLP (2, 2, 1)      : OK"
   ]
  },
  {
   "cell_type": "code",
   "execution_count": null,
   "metadata": {
    "id": "ij70I1H9BEzk"
   },
   "source": [
    "X = np.array([\n",
    "      [1, 0],\n",
    "      [0, 1],\n",
    "      [1, 1],\n",
    "      [0, 0],\n",
    "])\n",
    "Y = np.array([\n",
    "      2,\n",
    "      1,\n",
    "      -2,\n",
    "      -1\n",
    "])"
   ],
   "outputs": []
  },
  {
   "cell_type": "code",
   "execution_count": null,
   "metadata": {
    "colab": {
     "base_uri": "https://localhost:8080/",
     "height": 337
    },
    "id": "N3VDOby8BEzn",
    "outputId": "ef903fb3-08ed-4afd-f1e0-bcaed828b118"
   },
   "source": [
    "from mpl_toolkits.mplot3d import Axes3D\n",
    "fig = plt.figure()\n",
    "ax = Axes3D(fig)\n",
    "ax.scatter(X[:,0],X[:,1],Y)\n",
    "plt.show()\n",
    "plt.clf()"
   ],
   "outputs": []
  }
 ],
 "metadata": {
  "colab": {
   "provenance": []
  },
  "kernelspec": {
   "display_name": "Python 3 (ipykernel)",
   "language": "python",
   "name": "python3"
  },
  "language_info": {
   "codemirror_mode": {
    "name": "ipython",
    "version": 3
   },
   "file_extension": ".py",
   "mimetype": "text/x-python",
   "name": "python",
   "nbconvert_exporter": "python",
   "pygments_lexer": "ipython3",
   "version": "3.12.3"
  }
 },
 "nbformat": 4,
 "nbformat_minor": 4
}
