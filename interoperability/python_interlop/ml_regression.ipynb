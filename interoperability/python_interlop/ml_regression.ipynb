{
 "cells": [
  {
   "metadata": {},
   "cell_type": "markdown",
   "source": [
    "# Modèle Linéaire : Régression\n",
    "\n",
    "## Importation de la bibliothèque"
   ],
   "id": "25ede942600b08f7"
  },
  {
   "cell_type": "code",
   "id": "initial_id",
   "metadata": {
    "collapsed": true,
    "ExecuteTime": {
     "end_time": "2024-06-09T19:33:12.220608Z",
     "start_time": "2024-06-09T19:33:12.214820Z"
    }
   },
   "source": [
    "from interoperability.python_interlop.wrapper import MyModel\n",
    "import numpy as np"
   ],
   "outputs": [],
   "execution_count": 4
  },
  {
   "metadata": {},
   "cell_type": "markdown",
   "source": "# Linéaire simple 2D",
   "id": "e1210531732c3a63"
  },
  {
   "metadata": {
    "jupyter": {
     "is_executing": true
    },
    "ExecuteTime": {
     "start_time": "2024-06-09T19:33:14.784543Z"
    }
   },
   "cell_type": "code",
   "source": [
    "X = np.array([\n",
    "    [1],\n",
    "    [2]\n",
    "])\n",
    "Y = np.array([\n",
    "    2,\n",
    "    3\n",
    "])\n",
    "\n",
    "model = MyModel(\"ml\", 1, is_classification=False)\n",
    "model.train(X, Y, 0.1, 1_000_000)\n",
    "\n",
    "model.print_regression()"
   ],
   "id": "27769d16f6117254",
   "outputs": [],
   "execution_count": null
  },
  {
   "metadata": {
    "ExecuteTime": {
     "end_time": "2024-06-09T14:20:34.704992Z",
     "start_time": "2024-06-09T14:20:34.702550Z"
    }
   },
   "cell_type": "code",
   "source": "",
   "id": "5e9f8f1a39944f09",
   "outputs": [],
   "execution_count": 2
  },
  {
   "metadata": {},
   "cell_type": "code",
   "outputs": [],
   "execution_count": null,
   "source": "",
   "id": "e186a67821535243"
  }
 ],
 "metadata": {
  "kernelspec": {
   "display_name": "Python 3",
   "language": "python",
   "name": "python3"
  },
  "language_info": {
   "codemirror_mode": {
    "name": "ipython",
    "version": 2
   },
   "file_extension": ".py",
   "mimetype": "text/x-python",
   "name": "python",
   "nbconvert_exporter": "python",
   "pygments_lexer": "ipython2",
   "version": "2.7.6"
  }
 },
 "nbformat": 4,
 "nbformat_minor": 5
}
